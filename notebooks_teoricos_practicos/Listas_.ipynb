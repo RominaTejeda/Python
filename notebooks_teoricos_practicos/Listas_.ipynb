{
 "cells": [
  {
   "cell_type": "markdown",
   "metadata": {
    "id": "rTRUPeRwW07E"
   },
   "source": [
    "# Listas\n",
    "\n",
    "Las LISTAS son colecciones *ordenadas* de objetos que pueden contener ítems de diferentes tipos de datos."
   ]
  },
  {
   "cell_type": "markdown",
   "metadata": {
    "id": "8zHS0Kq6W07F"
   },
   "source": [
    "Para crear una lista vamos a escoger un nombre\n",
    "e indicar, entre corchetes y separados por comas,\n",
    "los elementos. \n"
   ]
  },
  {
   "cell_type": "code",
   "execution_count": null,
   "metadata": {
    "id": "bXrYyqGZW07F"
   },
   "outputs": [],
   "source": [
    "lista_prueba = [\"Jorge\", \"Matias\", \"Juan\", 1, 2.3]"
   ]
  },
  {
   "cell_type": "code",
   "execution_count": null,
   "metadata": {
    "colab": {
     "base_uri": "https://localhost:8080/"
    },
    "id": "hESuwnG9W07F",
    "outputId": "70f53f12-a07c-451a-dc4e-fd7b5c45708e"
   },
   "outputs": [
    {
     "name": "stdout",
     "output_type": "stream",
     "text": [
      "['Jorge', 'Matias', 'Juan', 1, 2.3]\n"
     ]
    }
   ],
   "source": [
    "print(lista_prueba)"
   ]
  },
  {
   "cell_type": "markdown",
   "metadata": {
    "id": "KoiYlhN9W07F"
   },
   "source": [
    "\n",
    "Al ser las LISTAS colecciones **ordenadas** de objetos, cada elemento tiene un índice, que es la posición en la que se encuentra en la lista empezando desde 0. \n",
    "A su vez las listas son **mutables,** es decir,  es posible cambiar su contenido."
   ]
  },
  {
   "cell_type": "markdown",
   "metadata": {
    "id": "rThy5795W07F"
   },
   "source": [
    "Cómo acceder a los elementos de una lista en Python? \n",
    "La **indexación** se puede realizar con uno, dos\n",
    "o tres parámetros separados por dos puntos\n",
    "\n"
   ]
  },
  {
   "cell_type": "code",
   "execution_count": null,
   "metadata": {
    "id": "hvrEOA1hW07F"
   },
   "outputs": [],
   "source": [
    "colores = ['azul', 'naranja', 'lila', 'celeste', 'rosado', 'violeta']"
   ]
  },
  {
   "cell_type": "code",
   "execution_count": null,
   "metadata": {
    "colab": {
     "base_uri": "https://localhost:8080/",
     "height": 36
    },
    "id": "oMEL6FQoW07F",
    "outputId": "f72f9977-2bf1-41ff-f26c-d3b7edd720c6"
   },
   "outputs": [
    {
     "data": {
      "application/vnd.google.colaboratory.intrinsic+json": {
       "type": "string"
      },
      "text/plain": [
       "'naranja'"
      ]
     },
     "execution_count": 22,
     "metadata": {},
     "output_type": "execute_result"
    }
   ],
   "source": [
    "colores[1] #Con un parámetro se obtiene un elemento en particular. \n",
    "#Se empieza a contar desde cero en adelante para seleccionar elementos contando desde la izquierda"
   ]
  },
  {
   "cell_type": "code",
   "execution_count": null,
   "metadata": {
    "colab": {
     "base_uri": "https://localhost:8080/",
     "height": 36
    },
    "id": "M2AHMN9QW07G",
    "outputId": "3eb9c35b-4936-4aee-f4c9-449d39c5debd"
   },
   "outputs": [
    {
     "data": {
      "application/vnd.google.colaboratory.intrinsic+json": {
       "type": "string"
      },
      "text/plain": [
       "'rosado'"
      ]
     },
     "execution_count": 23,
     "metadata": {},
     "output_type": "execute_result"
    }
   ],
   "source": [
    "colores[-2] # y números negativos para seleccionar empezando desde la derecha."
   ]
  },
  {
   "cell_type": "code",
   "execution_count": null,
   "metadata": {
    "colab": {
     "base_uri": "https://localhost:8080/"
    },
    "id": "Vckl63ScW07G",
    "outputId": "50f30d3a-1c83-4035-efed-ef290f395a62"
   },
   "outputs": [
    {
     "data": {
      "text/plain": [
       "['naranja', 'lila', 'celeste']"
      ]
     },
     "execution_count": 3,
     "metadata": {},
     "output_type": "execute_result"
    }
   ],
   "source": [
    "colores[1:4]\n",
    "# Con dos parámetros se puede seleccionar porciones (slices) de la secuencia.\n",
    "# El limite inferior se incluye y el limite superior se excluye "
   ]
  },
  {
   "cell_type": "code",
   "execution_count": null,
   "metadata": {
    "colab": {
     "base_uri": "https://localhost:8080/"
    },
    "id": "Lk08Qy_-W07G",
    "outputId": "bc6ff727-9298-4528-d7da-e63f66500eb2"
   },
   "outputs": [
    {
     "data": {
      "text/plain": [
       "['azul', 'naranja']"
      ]
     },
     "execution_count": 4,
     "metadata": {},
     "output_type": "execute_result"
    }
   ],
   "source": [
    "colores[:2]\n",
    "# Al no poner primer valor Python asume que es cero "
   ]
  },
  {
   "cell_type": "code",
   "execution_count": null,
   "metadata": {
    "colab": {
     "base_uri": "https://localhost:8080/"
    },
    "id": "s__iMxzaW07G",
    "outputId": "e337d215-8c1d-4b9c-c0ad-d5124b48a430"
   },
   "outputs": [
    {
     "data": {
      "text/plain": [
       "['lila', 'celeste', 'rosado', 'violeta']"
      ]
     },
     "execution_count": 5,
     "metadata": {},
     "output_type": "execute_result"
    }
   ],
   "source": [
    "colores[2:]\n",
    "# Al no poner segundo valor Python asume que son todos hasta el final"
   ]
  },
  {
   "cell_type": "code",
   "execution_count": null,
   "metadata": {
    "colab": {
     "base_uri": "https://localhost:8080/"
    },
    "id": "kGHn8lwOW07G",
    "outputId": "8decf2d1-bfd1-4ec1-9c23-1454fa2f51ac"
   },
   "outputs": [
    {
     "data": {
      "text/plain": [
       "['azul', 'lila', 'rosado']"
      ]
     },
     "execution_count": 6,
     "metadata": {},
     "output_type": "execute_result"
    }
   ],
   "source": [
    "colores[0:5:2]\n",
    "# El tercer parámetro indica el paso con el que los elementos deben tomarse."
   ]
  },
  {
   "cell_type": "markdown",
   "metadata": {
    "id": "63JJ0byfW07G"
   },
   "source": [
    "Entonces obtiene los elementos del 0 hasta el 5, pero ignorando algunos. Comienza en el 0, y avanza 2 pasos, así que selecciona el que tiene el índice 2. Luego, desde el 2 avanza otros 2 pasos y se encuentra con el índice 4"
   ]
  },
  {
   "cell_type": "code",
   "execution_count": null,
   "metadata": {
    "colab": {
     "base_uri": "https://localhost:8080/"
    },
    "id": "sJpL7zglW07G",
    "outputId": "025c4ab9-e5f7-457b-b7e4-274fdc6e458b"
   },
   "outputs": [
    {
     "data": {
      "text/plain": [
       "['violeta', 'rosado', 'celeste', 'lila', 'naranja', 'azul']"
      ]
     },
     "execution_count": 7,
     "metadata": {},
     "output_type": "execute_result"
    }
   ],
   "source": [
    "colores[::-1]\n",
    "#para invertir una lista se tiene que avanzar en pasos de -1,seleccionado desde el inicio hasta el fin "
   ]
  },
  {
   "cell_type": "markdown",
   "metadata": {
    "id": "DXYXRkU3W07G"
   },
   "source": [
    "Dijimos que la listas son mutables, entonces, como podemos cambiar sus valores? "
   ]
  },
  {
   "cell_type": "code",
   "execution_count": null,
   "metadata": {
    "id": "cr9ieU1iW07G"
   },
   "outputs": [],
   "source": [
    "lista = [\"manzana\", \"banana\", \"frutilla\"]"
   ]
  },
  {
   "cell_type": "code",
   "execution_count": null,
   "metadata": {
    "id": "l22_wKhsW07G"
   },
   "outputs": [],
   "source": [
    "lista[1] = \"durazno\""
   ]
  },
  {
   "cell_type": "code",
   "execution_count": null,
   "metadata": {
    "colab": {
     "base_uri": "https://localhost:8080/"
    },
    "id": "Vfz-_0HxW07G",
    "outputId": "7bfc040e-6904-4d91-9e2d-82fbaff92970"
   },
   "outputs": [
    {
     "name": "stdout",
     "output_type": "stream",
     "text": [
      "['manzana', 'durazno', 'frutilla']\n"
     ]
    }
   ],
   "source": [
    "print(lista)"
   ]
  },
  {
   "cell_type": "code",
   "execution_count": null,
   "metadata": {
    "id": "zqWDWQtfW07G"
   },
   "outputs": [],
   "source": [
    "lista[1:3] = [\"kiwi\", \"pera\"]"
   ]
  },
  {
   "cell_type": "code",
   "execution_count": null,
   "metadata": {
    "colab": {
     "base_uri": "https://localhost:8080/"
    },
    "id": "2eJpAZd-W07G",
    "outputId": "e94fbb37-31df-463d-e23a-b44f95baf3b6"
   },
   "outputs": [
    {
     "name": "stdout",
     "output_type": "stream",
     "text": [
      "['manzana', 'kiwi', 'pera']\n"
     ]
    }
   ],
   "source": [
    "print(lista)"
   ]
  },
  {
   "cell_type": "markdown",
   "metadata": {
    "id": "aaT8y3twW6oQ"
   },
   "source": [
    "**Agregar un elemento al final de la lista**\n",
    "\n",
    "lista.append(elemento)\n",
    "\n",
    "**Agregar un elemento en un indice en particular**\n",
    "\n",
    "lista.insert(indice,elemento)\n",
    "\n",
    "**Borrar un elemento**\n",
    "\n",
    "del lista[indice]\n",
    "\n",
    "**Reemplazar un elemento de la lista por otro**\n",
    "\n",
    "lista[indice] = elemento\n",
    "\n",
    "**Crear una lista vacia**\n",
    "\n",
    "lista = [] \n",
    "\n",
    "**Conocer la cantidad de elementos de una lista**\n",
    "\n",
    "len(lista) \n",
    "\n",
    "**Obtiene y elimina el último elemento**\n",
    "\n",
    "lista.pop()\n",
    "\n",
    "**Ordena Alfabeticamente en forma ascendente**\n",
    "\n",
    "lista.sort()\n",
    "\n",
    "**Ordena la lista en forma descendente** \n",
    "\n",
    "lista.sort(reverse = True)\n"
   ]
  },
  {
   "cell_type": "code",
   "execution_count": null,
   "metadata": {
    "id": "CmWdjGLOhaFj"
   },
   "outputs": [],
   "source": [
    "list = [\"manzana\", \"banana\"]"
   ]
  },
  {
   "cell_type": "code",
   "execution_count": null,
   "metadata": {
    "id": "B3siM_t9hjlh"
   },
   "outputs": [],
   "source": [
    "del list[1] #elimino banana"
   ]
  },
  {
   "cell_type": "code",
   "execution_count": null,
   "metadata": {
    "colab": {
     "base_uri": "https://localhost:8080/"
    },
    "id": "c3SjU6G7hpZH",
    "outputId": "8d41ec41-6caa-41ae-f4e0-90b6de40fc9f"
   },
   "outputs": [
    {
     "name": "stdout",
     "output_type": "stream",
     "text": [
      "['manzana']\n"
     ]
    }
   ],
   "source": [
    "print(list)"
   ]
  },
  {
   "cell_type": "code",
   "execution_count": null,
   "metadata": {
    "id": "meL8gYhLhxmt"
   },
   "outputs": [],
   "source": [
    "list[0] = 'kiwi' #cambio manzana por kiwi"
   ]
  },
  {
   "cell_type": "code",
   "execution_count": null,
   "metadata": {
    "colab": {
     "base_uri": "https://localhost:8080/"
    },
    "id": "SpJwyCmGhxpE",
    "outputId": "450eb095-3ba4-423d-c872-9377932e74ac"
   },
   "outputs": [
    {
     "name": "stdout",
     "output_type": "stream",
     "text": [
      "['kiwi']\n"
     ]
    }
   ],
   "source": [
    "print(list)"
   ]
  },
  {
   "cell_type": "code",
   "execution_count": null,
   "metadata": {
    "id": "PlWG6a_uhxrv"
   },
   "outputs": [],
   "source": [
    "list.insert(1,'durazno') #inserto durazno "
   ]
  },
  {
   "cell_type": "code",
   "execution_count": null,
   "metadata": {
    "colab": {
     "base_uri": "https://localhost:8080/"
    },
    "id": "LZeHNhs8iOVj",
    "outputId": "a97d8198-d8d4-45d0-ce1e-cf3abe0619db"
   },
   "outputs": [
    {
     "name": "stdout",
     "output_type": "stream",
     "text": [
      "['kiwi', 'durazno']\n"
     ]
    }
   ],
   "source": [
    "print(list)"
   ]
  },
  {
   "cell_type": "code",
   "execution_count": null,
   "metadata": {
    "id": "JDDzExYQig7l"
   },
   "outputs": [],
   "source": [
    "list.append('pera') #ingreso pera al final de la lista "
   ]
  },
  {
   "cell_type": "code",
   "execution_count": null,
   "metadata": {
    "colab": {
     "base_uri": "https://localhost:8080/"
    },
    "id": "KgcHkDNMiiXn",
    "outputId": "a704d96b-7867-46e3-a6ff-83cfa6ce81b1"
   },
   "outputs": [
    {
     "name": "stdout",
     "output_type": "stream",
     "text": [
      "['kiwi', 'durazno', 'pera']\n"
     ]
    }
   ],
   "source": [
    "print(list)"
   ]
  },
  {
   "cell_type": "code",
   "execution_count": null,
   "metadata": {
    "colab": {
     "base_uri": "https://localhost:8080/"
    },
    "id": "sOXlNwJ6io5m",
    "outputId": "738dc935-afb4-4e63-c9c0-490ffc1057fc"
   },
   "outputs": [
    {
     "data": {
      "text/plain": [
       "3"
      ]
     },
     "execution_count": 35,
     "metadata": {},
     "output_type": "execute_result"
    }
   ],
   "source": [
    "len(list) #chequeo la cantidad "
   ]
  },
  {
   "cell_type": "code",
   "execution_count": null,
   "metadata": {
    "colab": {
     "base_uri": "https://localhost:8080/"
    },
    "id": "Vs24rWXJl-Is",
    "outputId": "3b58e805-83d8-469c-9bb4-6e9da50875d3"
   },
   "outputs": [
    {
     "name": "stdout",
     "output_type": "stream",
     "text": [
      "['c', 'b', 'a', 1, 2, 3]\n"
     ]
    }
   ],
   "source": [
    "list1 = [\"c\", \"b\", \"a\"]  #unir dos listas \n",
    "list2 = [1, 2, 3]\n",
    "\n",
    "list3 = list1 + list2\n",
    "print(list3)"
   ]
  },
  {
   "cell_type": "code",
   "execution_count": null,
   "metadata": {
    "id": "Zm290vFPmhZe"
   },
   "outputs": [],
   "source": [
    "list1.sort() #ordenamos la lista \n"
   ]
  },
  {
   "cell_type": "code",
   "execution_count": null,
   "metadata": {
    "colab": {
     "base_uri": "https://localhost:8080/"
    },
    "id": "VyGUbCdymxL3",
    "outputId": "e9828315-329c-44ef-db08-fbd78e565156"
   },
   "outputs": [
    {
     "name": "stdout",
     "output_type": "stream",
     "text": [
      "['a', 'b', 'c']\n"
     ]
    }
   ],
   "source": [
    "print(list1)"
   ]
  },
  {
   "cell_type": "code",
   "execution_count": null,
   "metadata": {
    "id": "FMudraVvF_PQ"
   },
   "outputs": [],
   "source": [
    "list1.sort(reverse = True) #ordenamos de manera descendente "
   ]
  },
  {
   "cell_type": "code",
   "execution_count": null,
   "metadata": {
    "colab": {
     "base_uri": "https://localhost:8080/"
    },
    "id": "nm1-f1fnGBYU",
    "outputId": "f6ff8c13-d011-4c37-831d-0fc4483173b0"
   },
   "outputs": [
    {
     "name": "stdout",
     "output_type": "stream",
     "text": [
      "['c', 'b', 'a']\n"
     ]
    }
   ],
   "source": [
    "print(list1)"
   ]
  }
 ],
 "metadata": {
  "colab": {
   "provenance": []
  },
  "kernelspec": {
   "display_name": "Python 3 (ipykernel)",
   "language": "python",
   "name": "python3"
  },
  "language_info": {
   "codemirror_mode": {
    "name": "ipython",
    "version": 3
   },
   "file_extension": ".py",
   "mimetype": "text/x-python",
   "name": "python",
   "nbconvert_exporter": "python",
   "pygments_lexer": "ipython3",
   "version": "3.9.13"
  }
 },
 "nbformat": 4,
 "nbformat_minor": 1
}
