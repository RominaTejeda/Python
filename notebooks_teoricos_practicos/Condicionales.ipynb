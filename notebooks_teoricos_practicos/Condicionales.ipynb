{
  "nbformat": 4,
  "nbformat_minor": 0,
  "metadata": {
    "colab": {
      "provenance": []
    },
    "kernelspec": {
      "name": "python3",
      "display_name": "Python 3"
    },
    "language_info": {
      "name": "python"
    }
  },
  "cells": [
    {
      "cell_type": "markdown",
      "source": [
        "# Condicionales "
      ],
      "metadata": {
        "id": "zl1pFmc3ANIj"
      }
    },
    {
      "cell_type": "markdown",
      "source": [
        "El código de un programa es ejecutado por\n",
        "Python de izquierda a derecha y de arriba hacia abajo.\n",
        "Los condicionales nos permiten diferir la ejecución de una\n",
        "porción de código -es decir, una o más líneas- según se\n",
        "cumpla una condición u otra; o, lo que es lo mismo, hacer\n",
        "que un bloque de código se ejecute únicamente cuando se\n",
        "cumpla una condición.\n",
        "Es decir, los condicionales nos permiten modificar el flujo\n",
        "del programa.\n",
        "La cantidad de código que podemos incluir\n",
        "dentro de un condicional es ilimitada. Incluso\n",
        "puede contener otras definiciones de variables\n",
        "y otros condicionales.\n"
      ],
      "metadata": {
        "id": "pvyHLTZSKqrR"
      }
    },
    {
      "cell_type": "markdown",
      "source": [
        "**If:** primera condición\n",
        "\n",
        "**Elif:** resto de las condiciones(puede haber multiples condiciones)\n",
        "\n",
        "**Else:** se ejecuta cuado las anteriores condiciones son falsas"
      ],
      "metadata": {
        "id": "yLbJPptL_02P"
      }
    },
    {
      "cell_type": "code",
      "source": [
        "edad = 21\n",
        "if edad > 18:\n",
        "    print(\"Es mayor de edad\")"
      ],
      "metadata": {
        "colab": {
          "base_uri": "https://localhost:8080/"
        },
        "id": "dkGcFJ5w_85P",
        "outputId": "889a071e-e23d-4c49-e483-fb392f15743c"
      },
      "execution_count": null,
      "outputs": [
        {
          "output_type": "stream",
          "name": "stdout",
          "text": [
            "Es mayor de edad\n"
          ]
        }
      ]
    },
    {
      "cell_type": "markdown",
      "source": [
        "La primera línea define una variable 'edad' con el valor 21, y la segunda línea indica que el código print(\"Es mayor de edad\") sólo debe ejecutarse cuando la condición edad > 18 sea verdadera. Si cambiamos edad = 12 o edad = 7, veremos que, al correr el programa, la tercera línea será ignorada."
      ],
      "metadata": {
        "id": "0JJp7pyyACpS"
      }
    },
    {
      "cell_type": "code",
      "source": [
        "# probando...\n",
        "edad = 12\n",
        "if edad > 18:\n",
        "    print(\"Es mayor de edad\") "
      ],
      "metadata": {
        "id": "Rv9hwmnFAUQe"
      },
      "execution_count": null,
      "outputs": []
    },
    {
      "cell_type": "markdown",
      "source": [
        "Agregemos un elif a este código! "
      ],
      "metadata": {
        "id": "WAd4lOK6Bd1K"
      }
    },
    {
      "cell_type": "code",
      "source": [
        "tu_edad = 67\n",
        "if tu_edad >= 16 and tu_edad <= 65:\n",
        "    print(\"Puede votar\")\n",
        "elif tu_edad >= 65:\n",
        "    print(\"Votar es opcional\")\n",
        "else:\n",
        "    print(\"No puede votar\")\n"
      ],
      "metadata": {
        "colab": {
          "base_uri": "https://localhost:8080/"
        },
        "id": "6zNoMp6yA7-J",
        "outputId": "3f45f64d-ad70-4539-d861-8394a8b69f24"
      },
      "execution_count": null,
      "outputs": [
        {
          "output_type": "stream",
          "name": "stdout",
          "text": [
            "Votar es opcional\n"
          ]
        }
      ]
    },
    {
      "cell_type": "markdown",
      "source": [
        "Cuando tenemos un condicional con múltiples condiciones (en donde la primera se escribe con if y el resto con elif), todas son evaluadas por Python (por “evaluar” entendemos determinar si son falsas o verdaderas) en el orden en el que están dispuestas en el código. De este modo, si la primer condición es verdadera, se ejecuta el print y el condicional termina; es decir, el resto de las condiciones no son consideradas. Pero si la edad no se encuentra entre 16 y 65, entonces se considera la segunda condición, y así sucesivamente hasta llegar al else en caso de que todas las condiciones anteriores sean falsas."
      ],
      "metadata": {
        "id": "hiaBzXIJA-Ho"
      }
    }
  ]
}