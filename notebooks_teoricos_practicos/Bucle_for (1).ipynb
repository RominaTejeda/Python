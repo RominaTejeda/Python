{
 "cells": [
  {
   "cell_type": "markdown",
   "metadata": {
    "id": "g7KfI0Ya_vaR"
   },
   "source": [
    "# Bucle for \n",
    "Permite iterar sobre cada uno de los elementos de un iterable, como una lista, por ejemplo. \n",
    "En cada paso de la iteración se tiene en cuenta a un único elemento del objeto iterable, sobre el cuál se pueden aplicar una serie de operaciones."
   ]
  },
  {
   "cell_type": "markdown",
   "metadata": {
    "id": "Ilq5lBWqGYJk"
   },
   "source": [
    "💡 Un iterable es un objeto que se puede iterar sobre él, es decir, que permite recorrer sus elementos uno a uno. Los tipos de datos string, lista, tupla, diccionario, set o frozenset son objetos iterables."
   ]
  },
  {
   "cell_type": "markdown",
   "metadata": {
    "id": "l-Gql07CxK5U"
   },
   "source": [
    "La sintaxis utilizada para definir la sentencia `for` es la siguiente:\n",
    "```\n",
    "for <variable> in <iterable>:\n",
    "    <sentencia(s)>\n",
    "```\n",
    "  \n",
    "`<iterable>` es una colección de elementos, por ejemplo, una lista o una tupla.\n",
    "\n",
    "`<variable>` es una variable que recibirá uno de los elementos del objeto `<iterable>` en cada una de las itreaciones.\n",
    "\n",
    "`<sentencia(s)>` es el bloque de sentencias en Python que se ejecutará repetidamente."
   ]
  },
  {
   "cell_type": "code",
   "execution_count": 1,
   "metadata": {
    "colab": {
     "base_uri": "https://localhost:8080/"
    },
    "id": "47lMUI_zFwey",
    "outputId": "9d2b217d-7055-44c3-b3a2-e6488c6349d3"
   },
   "outputs": [
    {
     "name": "stdout",
     "output_type": "stream",
     "text": [
      "4\n",
      "78\n",
      "9\n",
      "84\n"
     ]
    }
   ],
   "source": [
    "num = [4, 78, 9, 84]  # sobre una lista \n",
    "for n in num:         #n es la variable que toma el valor del elemento dentro del iterador en cada paso del bucle\n",
    "    print(n)\n"
   ]
  },
  {
   "cell_type": "markdown",
   "metadata": {
    "id": "glNLZCEi3plc"
   },
   "source": [
    "**Claúsula else en un bucle for**"
   ]
  },
  {
   "cell_type": "markdown",
   "metadata": {
    "id": "zXk4VASD514W"
   },
   "source": [
    "Un bucle for también puede tener una cláusula else. La cláusula else se ejecutará cuando el iterador emita una excepción debido a que no quedan más elementos."
   ]
  },
  {
   "cell_type": "code",
   "execution_count": 2,
   "metadata": {
    "colab": {
     "base_uri": "https://localhost:8080/"
    },
    "id": "lyI30-BY562X",
    "outputId": "a75a595d-3304-4380-cdda-8bdf04c161e9"
   },
   "outputs": [
    {
     "name": "stdout",
     "output_type": "stream",
     "text": [
      "azul\n",
      "rojo\n",
      "verde\n",
      "El bucle ya no tiene más elementos\n"
     ]
    }
   ],
   "source": [
    "for i in [\"azul\", \"rojo\", \"verde\"]:\n",
    "    print(i)\n",
    "else:\n",
    "    print(\"El bucle ya no tiene más elementos\")"
   ]
  },
  {
   "cell_type": "markdown",
   "metadata": {
    "id": "XEIOilwFIICv"
   },
   "source": [
    "**Bucle for en diccionarios**"
   ]
  },
  {
   "cell_type": "code",
   "execution_count": 3,
   "metadata": {
    "colab": {
     "base_uri": "https://localhost:8080/"
    },
    "id": "Oxg4HcXTIBIo",
    "outputId": "410e8662-d5d1-4f2d-a856-1f2c3049b221"
   },
   "outputs": [
    {
     "name": "stdout",
     "output_type": "stream",
     "text": [
      "A\n",
      "B\n",
      "C\n"
     ]
    }
   ],
   "source": [
    "valores = {'A': 1, 'B': 2, 'C': 3} #Recorrer las claves del diccionario\n",
    "for k in valores:\n",
    "    print(k)\n",
    "\n"
   ]
  },
  {
   "cell_type": "code",
   "execution_count": 4,
   "metadata": {
    "colab": {
     "base_uri": "https://localhost:8080/"
    },
    "id": "SBnnuKrzIKJG",
    "outputId": "dad7a6a4-7be4-479a-97a4-09f7f066c8d4"
   },
   "outputs": [
    {
     "name": "stdout",
     "output_type": "stream",
     "text": [
      "1\n",
      "2\n",
      "3\n"
     ]
    }
   ],
   "source": [
    "valores = {'A': 1, 'B': 2, 'C': 3}  #Recorrer los valores de un diccionario\n",
    "for v in valores.values():\n",
    "    print(v)\n"
   ]
  },
  {
   "cell_type": "code",
   "execution_count": 5,
   "metadata": {
    "colab": {
     "base_uri": "https://localhost:8080/"
    },
    "id": "L2MAFji2IKP4",
    "outputId": "b5d115ca-8696-4df8-fc58-bff5c5dc45c5"
   },
   "outputs": [
    {
     "name": "stdout",
     "output_type": "stream",
     "text": [
      "k= A , v= 1\n",
      "k= B , v= 2\n",
      "k= C , v= 3\n"
     ]
    }
   ],
   "source": [
    "valores = {'A': 1, 'B': 2, 'C': 3} # Iterar a la vez sobre la clave y el valor de cada uno de los elementos del diccionario\n",
    "for k, v in valores.items():\n",
    "    print('k=', k, ', v=', v)\n"
   ]
  },
  {
   "cell_type": "code",
   "execution_count": 6,
   "metadata": {
    "id": "8Ldyu4RY5Sms"
   },
   "outputs": [],
   "source": [
    "numeros = [1, 2, 3, 4, 5, 6]\n",
    "\n",
    "for n in numeros:\n",
    "     if n == 3:      #condicional + break en un bucle for \n",
    "        break\n",
    "else:\n",
    "    print('No se encontró el número 3')"
   ]
  },
  {
   "cell_type": "code",
   "execution_count": 7,
   "metadata": {
    "colab": {
     "base_uri": "https://localhost:8080/"
    },
    "id": "Wbi7JL3i4dq-",
    "outputId": "54072382-7b74-4e76-a621-e1ab56be922d"
   },
   "outputs": [
    {
     "name": "stdout",
     "output_type": "stream",
     "text": [
      "1\n",
      "2\n",
      "4\n",
      "5\n",
      "6\n"
     ]
    }
   ],
   "source": [
    "lista_continuar = [1, 2, 3, 4, 5, 6]\n",
    "\n",
    "for n in lista_continuar:\n",
    "    if n == 3:      #condicional + continue en un bucle for, saltea el numero 3\n",
    "        continue \n",
    "    else:\n",
    "        print(n)"
   ]
  }
 ],
 "metadata": {
  "colab": {
   "provenance": []
  },
  "kernelspec": {
   "display_name": "Python 3 (ipykernel)",
   "language": "python",
   "name": "python3"
  },
  "language_info": {
   "codemirror_mode": {
    "name": "ipython",
    "version": 3
   },
   "file_extension": ".py",
   "mimetype": "text/x-python",
   "name": "python",
   "nbconvert_exporter": "python",
   "pygments_lexer": "ipython3",
   "version": "3.9.13"
  }
 },
 "nbformat": 4,
 "nbformat_minor": 1
}
