{
 "cells": [
  {
   "cell_type": "markdown",
   "id": "3b5673b3",
   "metadata": {},
   "source": [
    "# Listas por comprensión (List Comprehension)\n",
    "\n",
    "Permiten crear listas de una forma muy concisa. Consiste en especificar los elementos que va a contener la lista en la propia definición de la lista.\n",
    "\n",
    "Contiene los corchetes, una expresión y una cláusula for (que puede o no, estar seguida de más cláusulas for o un if).\n",
    "Se usa para generar elementos que siguen un patrón o aplicar transformaciones a los elementos de otra secuencia."
   ]
  },
  {
   "cell_type": "code",
   "execution_count": 1,
   "id": "deeff11e",
   "metadata": {},
   "outputs": [],
   "source": [
    "# Ej de un bucle for \n",
    "lista = [1,2,3,4,5]\n",
    "\n",
    "cuadrados = []\n",
    "\n",
    "for x in lista:\n",
    "    cuadrados.append(x**2)"
   ]
  },
  {
   "cell_type": "code",
   "execution_count": 2,
   "id": "501f85fd",
   "metadata": {},
   "outputs": [
    {
     "name": "stdout",
     "output_type": "stream",
     "text": [
      "[1, 4, 9, 16, 25]\n"
     ]
    }
   ],
   "source": [
    "print(cuadrados)"
   ]
  },
  {
   "cell_type": "code",
   "execution_count": 3,
   "id": "3f487207",
   "metadata": {},
   "outputs": [],
   "source": [
    "# con listas por compresion\n",
    "lista_comprension_cuadrados = [x**2 for x in lista]"
   ]
  },
  {
   "cell_type": "code",
   "execution_count": 4,
   "id": "1e789935",
   "metadata": {},
   "outputs": [
    {
     "name": "stdout",
     "output_type": "stream",
     "text": [
      "[1, 4, 9, 16, 25]\n"
     ]
    }
   ],
   "source": [
    "print(lista_comprension_cuadrados)"
   ]
  },
  {
   "cell_type": "markdown",
   "id": "7d37c8ee",
   "metadata": {},
   "source": [
    "De la siguiente lista, queremos obtener el cuadrado solo de los numeros pares de la lista. Utilice list Comprehension."
   ]
  },
  {
   "cell_type": "code",
   "execution_count": 5,
   "id": "555f7771",
   "metadata": {},
   "outputs": [],
   "source": [
    "lista1 = range(0,20)"
   ]
  },
  {
   "cell_type": "code",
   "execution_count": 6,
   "id": "3bf22bc0",
   "metadata": {},
   "outputs": [
    {
     "data": {
      "text/plain": [
       "[0, 4, 16, 36, 64, 100, 144, 196, 256, 324]"
      ]
     },
     "execution_count": 6,
     "metadata": {},
     "output_type": "execute_result"
    }
   ],
   "source": [
    "[x**2 for x in lista1 if x % 2 == 0]"
   ]
  },
  {
   "cell_type": "markdown",
   "id": "c96b9a84",
   "metadata": {},
   "source": [
    "La sintáxis para filtrar con condicionales es:\n",
    "\n",
    "[ (elemento) ( for x in (iterable) ) ( if condicion ) ]\n",
    "\n",
    "Donde \"elemento\" es lo que vayamos a guardar en la lista.\n",
    "\n",
    "Incluyendo un else:\n",
    "\n",
    "[ (elemento) (if condicion else otro_elemento) ( for x in (iterable)) ]\n",
    "\n",
    "Pueden hacerse loops anidados:\n",
    "\n",
    "[ i for i in range(x) for j in range(y) ]"
   ]
  }
 ],
 "metadata": {
  "kernelspec": {
   "display_name": "Python 3 (ipykernel)",
   "language": "python",
   "name": "python3"
  },
  "language_info": {
   "codemirror_mode": {
    "name": "ipython",
    "version": 3
   },
   "file_extension": ".py",
   "mimetype": "text/x-python",
   "name": "python",
   "nbconvert_exporter": "python",
   "pygments_lexer": "ipython3",
   "version": "3.9.13"
  }
 },
 "nbformat": 4,
 "nbformat_minor": 5
}
