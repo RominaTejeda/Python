{
 "cells": [
  {
   "cell_type": "markdown",
   "metadata": {
    "id": "1PSDTgvroxGn"
   },
   "source": [
    "## String"
   ]
  },
  {
   "cell_type": "markdown",
   "metadata": {
    "id": "QrCZvKQCo9cc"
   },
   "source": [
    "Nota: Todos los métodos de cadena devuelven nuevos valores. No cambian la cadena original."
   ]
  },
  {
   "cell_type": "markdown",
   "metadata": {
    "id": "6qWZ6S7d3qDk"
   },
   "source": [
    "**capitalize**"
   ]
  },
  {
   "cell_type": "code",
   "execution_count": 49,
   "metadata": {
    "colab": {
     "base_uri": "https://localhost:8080/"
    },
    "id": "NHyp87oGpc2A",
    "outputId": "85fb05f4-455a-4113-8b89-0492e711dfe6"
   },
   "outputs": [
    {
     "name": "stdout",
     "output_type": "stream",
     "text": [
      "Estrella\n"
     ]
    }
   ],
   "source": [
    "# convierte en mayúscula la primera letra \n",
    "variable = 'estrella'\n",
    "a = variable.capitalize()\n",
    "print (a)"
   ]
  },
  {
   "cell_type": "markdown",
   "metadata": {
    "id": "BPB9Ncds3uLP"
   },
   "source": [
    "**casefold**"
   ]
  },
  {
   "cell_type": "code",
   "execution_count": 50,
   "metadata": {
    "colab": {
     "base_uri": "https://localhost:8080/"
    },
    "id": "nuzXvw88v4Ix",
    "outputId": "ac9a3c76-055c-4dbc-8653-2d890aae919e"
   },
   "outputs": [
    {
     "name": "stdout",
     "output_type": "stream",
     "text": [
      "hello, and welcome to my world!\n"
     ]
    }
   ],
   "source": [
    "# devuelve una cadena donde todos los caracteres están en minúsculas\n",
    "txt = \"Hello, And Welcome To My World!\"\n",
    "b = txt.casefold()\n",
    "print(b)"
   ]
  },
  {
   "cell_type": "markdown",
   "metadata": {
    "id": "ct9QdNNG3xst"
   },
   "source": [
    "**count**"
   ]
  },
  {
   "cell_type": "code",
   "execution_count": 52,
   "metadata": {
    "colab": {
     "base_uri": "https://localhost:8080/"
    },
    "id": "WlwCA-huwSGn",
    "outputId": "14e8e16a-e87a-4971-c773-430097e083fa"
   },
   "outputs": [
    {
     "name": "stdout",
     "output_type": "stream",
     "text": [
      "6\n"
     ]
    }
   ],
   "source": [
    "# Devuelve el número de veces que aparece un valor en la cadena\n",
    "txt1 = \"Banana, manzana y Banana\"\n",
    "c = txt1.count(\"n\")\n",
    "print(c)"
   ]
  },
  {
   "cell_type": "markdown",
   "metadata": {
    "id": "zwSC2-7h32h2"
   },
   "source": [
    "**find**"
   ]
  },
  {
   "cell_type": "code",
   "execution_count": 54,
   "metadata": {
    "colab": {
     "base_uri": "https://localhost:8080/"
    },
    "id": "6ljRHAz9xm5F",
    "outputId": "43db853a-c307-4734-c9a3-d9678ff5ed15"
   },
   "outputs": [
    {
     "name": "stdout",
     "output_type": "stream",
     "text": [
      "3\n"
     ]
    }
   ],
   "source": [
    "# encuentra la primera aparición del valor especificado\n",
    "txt3 = \"Me gusta el amanecer\"\n",
    "e = txt3.find(\"g\")\n",
    "print(e)"
   ]
  },
  {
   "cell_type": "code",
   "execution_count": 55,
   "metadata": {
    "colab": {
     "base_uri": "https://localhost:8080/"
    },
    "id": "OoiRSqle3eLe",
    "outputId": "d0ccb8ca-597d-47d4-992c-c1f7ddeb5671"
   },
   "outputs": [
    {
     "data": {
      "text/plain": [
       "-1"
      ]
     },
     "execution_count": 55,
     "metadata": {},
     "output_type": "execute_result"
    }
   ],
   "source": [
    "txt3.find(\"sol\") # si no encuentra el campo devuelve -1"
   ]
  },
  {
   "cell_type": "markdown",
   "metadata": {
    "id": "800MRjUQ4G42"
   },
   "source": [
    "**index**"
   ]
  },
  {
   "cell_type": "code",
   "execution_count": 58,
   "metadata": {
    "colab": {
     "base_uri": "https://localhost:8080/"
    },
    "id": "vdiLxx7m3OwK",
    "outputId": "15d064eb-896c-4983-f480-0f402756b41c"
   },
   "outputs": [
    {
     "name": "stdout",
     "output_type": "stream",
     "text": [
      "4\n"
     ]
    }
   ],
   "source": [
    "# encuentra la primera aparición del valor especificado, diferencia con find devuelve error si no encuentra el campo\n",
    "txt3 = \"Me gusta el amanecer\"\n",
    "f = txt3.index(\"u\")\n",
    "print(f)"
   ]
  },
  {
   "cell_type": "code",
   "execution_count": 57,
   "metadata": {
    "colab": {
     "base_uri": "https://localhost:8080/",
     "height": 165
    },
    "id": "1MTuoozL4jEp",
    "outputId": "e222e5ff-cc0b-4ab1-af4a-f55e325fb4a9"
   },
   "outputs": [
    {
     "ename": "ValueError",
     "evalue": "ignored",
     "output_type": "error",
     "traceback": [
      "\u001b[0;31m---------------------------------------------------------------------------\u001b[0m",
      "\u001b[0;31mValueError\u001b[0m                                Traceback (most recent call last)",
      "\u001b[0;32m<ipython-input-57-74d767e09348>\u001b[0m in \u001b[0;36m<cell line: 1>\u001b[0;34m()\u001b[0m\n\u001b[0;32m----> 1\u001b[0;31m \u001b[0mtxt3\u001b[0m\u001b[0;34m.\u001b[0m\u001b[0mindex\u001b[0m\u001b[0;34m(\u001b[0m\u001b[0;34m\"sol\"\u001b[0m\u001b[0;34m)\u001b[0m\u001b[0;34m\u001b[0m\u001b[0;34m\u001b[0m\u001b[0m\n\u001b[0m",
      "\u001b[0;31mValueError\u001b[0m: substring not found"
     ]
    }
   ],
   "source": [
    "txt3.index(\"sol\")"
   ]
  },
  {
   "cell_type": "markdown",
   "metadata": {
    "id": "1kXmuSQ24hhR"
   },
   "source": [
    "**format**"
   ]
  },
  {
   "cell_type": "code",
   "execution_count": null,
   "metadata": {
    "colab": {
     "base_uri": "https://localhost:8080/"
    },
    "id": "wNMAblxE1Qb3",
    "outputId": "19a76b0e-9f9f-408e-e94f-f1082e97c5c3"
   },
   "outputs": [
    {
     "name": "stdout",
     "output_type": "stream",
     "text": [
      "El precio es de 49.00 dolares!\n"
     ]
    }
   ],
   "source": [
    "# permite formatear cadenas con valores dinámicos\n",
    "txt4 = \"El precio es de {price:.2f} dolares!\"\n",
    "print(txt4.format(price = 49))"
   ]
  },
  {
   "cell_type": "markdown",
   "metadata": {
    "id": "M4FkCx5Q5FYE"
   },
   "source": [
    "**isalnum**"
   ]
  },
  {
   "cell_type": "code",
   "execution_count": 59,
   "metadata": {
    "colab": {
     "base_uri": "https://localhost:8080/"
    },
    "id": "0uRkGTf35Mo-",
    "outputId": "bd742de2-3244-4ed0-977c-07892bf7f24a"
   },
   "outputs": [
    {
     "name": "stdout",
     "output_type": "stream",
     "text": [
      "True\n"
     ]
    }
   ],
   "source": [
    "# Comprobar si todos los caracteres del texto son alfanuméricos\n",
    "txt5 = \"Alumno12\"\n",
    "g = txt5.isalnum()\n",
    "print(g)"
   ]
  },
  {
   "cell_type": "markdown",
   "metadata": {
    "id": "2rleM6rI5f8K"
   },
   "source": [
    "**isdigit**"
   ]
  },
  {
   "cell_type": "code",
   "execution_count": 60,
   "metadata": {
    "colab": {
     "base_uri": "https://localhost:8080/"
    },
    "id": "t90V1E0Y5s6j",
    "outputId": "a1874e1a-14ac-4b8f-a6ff-3efb1724269c"
   },
   "outputs": [
    {
     "name": "stdout",
     "output_type": "stream",
     "text": [
      "True\n"
     ]
    }
   ],
   "source": [
    "# Comprobar si todos los caracteres del texto son dígitos\n",
    "txt6 = \"50800\"\n",
    "h = txt6.isdigit()\n",
    "print(h)"
   ]
  },
  {
   "cell_type": "markdown",
   "metadata": {
    "id": "KL7F04Xv6GCZ"
   },
   "source": [
    "**isnumeric**"
   ]
  },
  {
   "cell_type": "code",
   "execution_count": 61,
   "metadata": {
    "colab": {
     "base_uri": "https://localhost:8080/"
    },
    "id": "uGTzjZRT5s_e",
    "outputId": "4a4d5afc-a7af-47a6-bd14-1c576382b1f8"
   },
   "outputs": [
    {
     "name": "stdout",
     "output_type": "stream",
     "text": [
      "True\n"
     ]
    }
   ],
   "source": [
    "# Comprobar si todos los caracteres del texto son numéricos\n",
    "i = txt6.isnumeric()\n",
    "print(i)"
   ]
  },
  {
   "cell_type": "markdown",
   "metadata": {
    "id": "j41910kB67ZE"
   },
   "source": [
    "**join**"
   ]
  },
  {
   "cell_type": "code",
   "execution_count": 63,
   "metadata": {
    "colab": {
     "base_uri": "https://localhost:8080/"
    },
    "id": "PRUI4O-N654Z",
    "outputId": "7a45c010-078f-444c-aaf0-563d02d30ceb"
   },
   "outputs": [
    {
     "name": "stdout",
     "output_type": "stream",
     "text": [
      "John,Peter,Vicky\n"
     ]
    }
   ],
   "source": [
    "# toma todos los elementos de un iterable y los une en una cadena\n",
    "myTuple = (\"John\", \"Peter\", \"Vicky\")\n",
    "j = \",\".join(myTuple)\n",
    "print(j)"
   ]
  },
  {
   "cell_type": "markdown",
   "metadata": {
    "id": "mMjMy6P37n5J"
   },
   "source": [
    "**ljust**"
   ]
  },
  {
   "cell_type": "code",
   "execution_count": 66,
   "metadata": {
    "colab": {
     "base_uri": "https://localhost:8080/"
    },
    "id": "LA3reTbA6eqI",
    "outputId": "66365fc7-45a3-41c0-9dde-7e15e0e1b8cc"
   },
   "outputs": [
    {
     "name": "stdout",
     "output_type": "stream",
     "text": [
      "banana               es mi fruta favorita\n"
     ]
    }
   ],
   "source": [
    "# Devuelve una versión justificada a la izquierda de 20 caracteres de la palabra \"banana\"\n",
    "txt7 = \"banana\"\n",
    "k = txt7.ljust(20)\n",
    "print(k, \"es mi fruta favorita\")"
   ]
  },
  {
   "cell_type": "markdown",
   "metadata": {
    "id": "IYJGczeMDxyt"
   },
   "source": [
    "**rjust**"
   ]
  },
  {
   "cell_type": "code",
   "execution_count": 68,
   "metadata": {
    "colab": {
     "base_uri": "https://localhost:8080/"
    },
    "id": "AThjWVQ0DzST",
    "outputId": "828b3beb-e89e-4a60-f9b4-fed30f8b7ddf"
   },
   "outputs": [
    {
     "name": "stdout",
     "output_type": "stream",
     "text": [
      "              banana es mi fruta favorita\n"
     ]
    }
   ],
   "source": [
    "# Devuelve una versión justificada a la derecha de 20 caracteres de largo de la palabra \"banana\"\n",
    "w = txt7.rjust(20)\n",
    "print(w, \"es mi fruta favorita\")"
   ]
  },
  {
   "cell_type": "markdown",
   "metadata": {
    "id": "FV81uj5b8e2t"
   },
   "source": [
    "**lower**"
   ]
  },
  {
   "cell_type": "code",
   "execution_count": 69,
   "metadata": {
    "colab": {
     "base_uri": "https://localhost:8080/"
    },
    "id": "fYXSGHQf8tI0",
    "outputId": "4f75e80e-279a-4a4d-95df-d08e2d7f3e76"
   },
   "outputs": [
    {
     "name": "stdout",
     "output_type": "stream",
     "text": [
      "hello my friends\n"
     ]
    }
   ],
   "source": [
    "# devuelve una cadena donde todos los caracteres están en minúsculas\n",
    "txt8 = \"Hello my FRIENDS\"\n",
    "l = txt8.lower()\n",
    "print(l)"
   ]
  },
  {
   "cell_type": "markdown",
   "metadata": {
    "id": "31-mtw4_8y_l"
   },
   "source": [
    "**upper**"
   ]
  },
  {
   "cell_type": "code",
   "execution_count": 70,
   "metadata": {
    "colab": {
     "base_uri": "https://localhost:8080/"
    },
    "id": "etFHRJEE809c",
    "outputId": "af585024-4fd7-4686-d6c8-05969d300863"
   },
   "outputs": [
    {
     "name": "stdout",
     "output_type": "stream",
     "text": [
      "HELLO MY FRIENDS\n"
     ]
    }
   ],
   "source": [
    "# devuelve una cadena donde todos los caracteres están en mayúsculas\n",
    "m = txt8.upper()\n",
    "print(m)"
   ]
  },
  {
   "cell_type": "markdown",
   "metadata": {
    "id": "7jglGaxzbyXN"
   },
   "source": [
    "**strip**"
   ]
  },
  {
   "cell_type": "code",
   "execution_count": 71,
   "metadata": {
    "colab": {
     "base_uri": "https://localhost:8080/"
    },
    "id": "d7U9raXGb058",
    "outputId": "32dca179-2c05-488a-e4c2-67cfef78892f"
   },
   "outputs": [
    {
     "name": "stdout",
     "output_type": "stream",
     "text": [
      "of all fruits banana is my favorite\n"
     ]
    }
   ],
   "source": [
    "# Elimina los espacios al principio y al final de la cadena\n",
    "txt13 = \"     banana     \"\n",
    "\n",
    "x = txt13.strip()\n",
    "\n",
    "print(\"of all fruits\", x, \"is my favorite\")"
   ]
  },
  {
   "cell_type": "markdown",
   "metadata": {
    "id": "TTWtFVfX80YD"
   },
   "source": [
    "**lstrip**"
   ]
  },
  {
   "cell_type": "code",
   "execution_count": 72,
   "metadata": {
    "colab": {
     "base_uri": "https://localhost:8080/"
    },
    "id": "Lqi3T4lj9ads",
    "outputId": "b6f229c8-0105-420a-9063-4950f04decfe"
   },
   "outputs": [
    {
     "name": "stdout",
     "output_type": "stream",
     "text": [
      "De todas la frutas banana es mi favorita\n"
     ]
    }
   ],
   "source": [
    "# Elimina espacios a la izquierda de la cadena\n",
    "txt9 = \"     banana\"\n",
    "n = txt9.lstrip()\n",
    "print(\"De todas la frutas\", n, \"es mi favorita\")"
   ]
  },
  {
   "cell_type": "markdown",
   "metadata": {
    "id": "ou1cqKUFWW0v"
   },
   "source": [
    "**rstrip**"
   ]
  },
  {
   "cell_type": "code",
   "execution_count": 73,
   "metadata": {
    "colab": {
     "base_uri": "https://localhost:8080/"
    },
    "id": "hRz2FuRDWXEE",
    "outputId": "520d204a-c022-4f50-e09b-20040dd78a92"
   },
   "outputs": [
    {
     "name": "stdout",
     "output_type": "stream",
     "text": [
      "De todas la frutas pera es mi favorita\n"
     ]
    }
   ],
   "source": [
    "# Elimina espacios a la derecha de la cadena\n",
    "txt11 = \"pera     \"\n",
    "v = txt11.rstrip()\n",
    "print(\"De todas la frutas\", v, \"es mi favorita\")"
   ]
  },
  {
   "cell_type": "markdown",
   "metadata": {
    "id": "dRDtYQHr-jN4"
   },
   "source": [
    "**partition**"
   ]
  },
  {
   "cell_type": "markdown",
   "metadata": {
    "id": "eACIDnri_ewI"
   },
   "source": [
    "Busca la palabra \"gusta\" y devuelve una tupla con tres elementos:\n",
    "\n",
    "1 - todo antes de la palabra \"gusta\"\n",
    "\n",
    "2 - la palabra \"gusta\"\n",
    "\n",
    "3 - todo después de la palabra \"gusta\"\n"
   ]
  },
  {
   "cell_type": "code",
   "execution_count": null,
   "metadata": {
    "colab": {
     "base_uri": "https://localhost:8080/"
    },
    "id": "9YohC0rO-p_P",
    "outputId": "4b7597d5-52be-42d1-c151-deeff83d2fd3"
   },
   "outputs": [
    {
     "name": "stdout",
     "output_type": "stream",
     "text": [
      "('Me ', 'gusta', ' la playa')\n"
     ]
    }
   ],
   "source": [
    "txt10 = \"Me gusta la playa\"\n",
    "o = txt10.partition(\"gusta\")\n",
    "print(o)\n"
   ]
  },
  {
   "cell_type": "markdown",
   "metadata": {
    "id": "9yWGfwwI-pZL"
   },
   "source": [
    "**replace**"
   ]
  },
  {
   "cell_type": "code",
   "execution_count": 75,
   "metadata": {
    "colab": {
     "base_uri": "https://localhost:8080/"
    },
    "id": "3YohmoYHAw3x",
    "outputId": "07e78db8-1714-4299-9b2a-207795d14c13"
   },
   "outputs": [
    {
     "name": "stdout",
     "output_type": "stream",
     "text": [
      "rojo, este amor es rojo como el mar rojo\n"
     ]
    }
   ],
   "source": [
    "# reemplaza una cadena específica con otra cadena específica\n",
    "# se reemplazarán todas las apariciones de la cadena, si no se especifica lo contrario.\n",
    "txt = \"azul, este amor es azul como el mar azul\"\n",
    "p = txt.replace(\"azul\", \"rojo\")\n",
    "print(p)\n"
   ]
  },
  {
   "cell_type": "markdown",
   "metadata": {
    "id": "NPLdE5tIBcdM"
   },
   "source": [
    "**split**"
   ]
  },
  {
   "cell_type": "code",
   "execution_count": 79,
   "metadata": {
    "colab": {
     "base_uri": "https://localhost:8080/"
    },
    "id": "Ui9vhlqfDIrU",
    "outputId": "85781a52-2abb-483a-b2d2-e639eab45ded"
   },
   "outputs": [
    {
     "name": "stdout",
     "output_type": "stream",
     "text": [
      "['welcome', 'to', 'the', 'jungle']\n"
     ]
    }
   ],
   "source": [
    "# El método split() divide una cadena en una lista.\n",
    "# Puede especificar el separador, el separador predeterminado es espacio en blanco\n",
    "tx = \"welcome to the jungle\"\n",
    "z = tx.split()\n",
    "print(z)"
   ]
  },
  {
   "cell_type": "code",
   "execution_count": 81,
   "metadata": {
    "colab": {
     "base_uri": "https://localhost:8080/"
    },
    "id": "Q-CUtEVSHF0w",
    "outputId": "e656f1ce-bab0-4d2c-e607-b8442622bf85"
   },
   "outputs": [
    {
     "name": "stdout",
     "output_type": "stream",
     "text": [
      "['apple', 'banana', 'cherry', 'orange']\n"
     ]
    }
   ],
   "source": [
    "texto = \"apple#banana#cherry#orange\"\n",
    "a1 = texto.split(\"#\")\n",
    "print(a1)"
   ]
  },
  {
   "cell_type": "markdown",
   "metadata": {
    "id": "wYkpULwIEx8n"
   },
   "source": [
    "**swapcase()**"
   ]
  },
  {
   "cell_type": "code",
   "execution_count": 1,
   "metadata": {
    "colab": {
     "base_uri": "https://localhost:8080/"
    },
    "id": "qNnxleewEzrd",
    "outputId": "e4d408ac-4611-4bb4-b11f-f2526601e42f"
   },
   "outputs": [
    {
     "name": "stdout",
     "output_type": "stream",
     "text": [
      "hELLO, wELCoME TO mY wOrLD.\n"
     ]
    }
   ],
   "source": [
    "# convierte las letras minúsculas en mayúsculas y las letras mayúsculas en minúsculas\n",
    "tx18 = \"Hello, WelcOme to My WoRld.\"\n",
    "q = tx18.swapcase()\n",
    "print(q)"
   ]
  },
  {
   "cell_type": "markdown",
   "metadata": {},
   "source": [
    "**by Maria Belen Camandone**"
   ]
  }
 ],
 "metadata": {
  "colab": {
   "provenance": []
  },
  "kernelspec": {
   "display_name": "Python 3 (ipykernel)",
   "language": "python",
   "name": "python3"
  },
  "language_info": {
   "codemirror_mode": {
    "name": "ipython",
    "version": 3
   },
   "file_extension": ".py",
   "mimetype": "text/x-python",
   "name": "python",
   "nbconvert_exporter": "python",
   "pygments_lexer": "ipython3",
   "version": "3.9.13"
  }
 },
 "nbformat": 4,
 "nbformat_minor": 1
}
