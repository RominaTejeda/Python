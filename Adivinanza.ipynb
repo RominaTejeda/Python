{
 "cells": [
  {
   "cell_type": "code",
   "execution_count": 1,
   "id": "1ee82559",
   "metadata": {},
   "outputs": [],
   "source": [
    "import random"
   ]
  },
  {
   "cell_type": "code",
   "execution_count": 2,
   "id": "aa32f0aa",
   "metadata": {},
   "outputs": [
    {
     "name": "stdout",
     "output_type": "stream",
     "text": [
      "Ingresa un numero: 3\n",
      "El numero adivinar es mas alto\n",
      "Ingresa otro numero para adivinar: 4\n",
      "El numero adivinar es mas alto\n",
      "Ingresa otro numero para adivinar: 7\n",
      "Adivinaste!!\n"
     ]
    }
   ],
   "source": [
    "n = random.randrange(1,10)\n",
    "adivinar_numero = int(input(\"Ingresa un numero: \"))\n",
    "while n!= adivinar_numero:\n",
    "    if adivinar_numero < n:\n",
    "        print(\"El numero adivinar es mas alto\")\n",
    "        adivinar_numero = int(input(\"Ingresa otro numero para adivinar: \"))\n",
    "    elif adivinar_numero > n:\n",
    "        print(\"El numero adivinar es mas bajo\")\n",
    "        adivinar_numero  = int(input(\"Ingresa otro numero para adivinar: \"))\n",
    "    else:\n",
    "      break\n",
    "print(\"Adivinaste!!\")"
   ]
  }
 ],
 "metadata": {
  "kernelspec": {
   "display_name": "Python 3 (ipykernel)",
   "language": "python",
   "name": "python3"
  },
  "language_info": {
   "codemirror_mode": {
    "name": "ipython",
    "version": 3
   },
   "file_extension": ".py",
   "mimetype": "text/x-python",
   "name": "python",
   "nbconvert_exporter": "python",
   "pygments_lexer": "ipython3",
   "version": "3.9.12"
  }
 },
 "nbformat": 4,
 "nbformat_minor": 5
}
