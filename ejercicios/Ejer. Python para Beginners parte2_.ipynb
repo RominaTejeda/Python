{
 "cells": [
  {
   "cell_type": "markdown",
   "metadata": {
    "id": "5XenHT4V4x5p"
   },
   "source": [
    "Ejercicio 1 :\n",
    "\n",
    "En un script de Python, crear tres variables nombradas f, g y h con valores numéricos cualesquiera; una cuarta llamada resultado que sea la suma de las primeras tres, y por último imprimir en pantalla el resultado."
   ]
  },
  {
   "cell_type": "code",
   "execution_count": 5,
   "metadata": {
    "id": "P9OQUfK44zE3"
   },
   "outputs": [],
   "source": [
    "f = 3\n",
    "g = 9\n",
    "h = 2\n",
    "resultado = f + g + h "
   ]
  },
  {
   "cell_type": "code",
   "execution_count": 7,
   "metadata": {},
   "outputs": [
    {
     "name": "stdout",
     "output_type": "stream",
     "text": [
      " El resultado es: 14\n"
     ]
    }
   ],
   "source": [
    "print(f' El resultado es: {resultado}')"
   ]
  },
  {
   "cell_type": "markdown",
   "metadata": {
    "id": "CrUDd-7s8Mgu"
   },
   "source": [
    "Ejercicio 2:\n",
    "\n",
    "Crear dos variables, saludo y nombre, cuyos contenidos sean \"Hola, \" en el primer caso y tu nombre en el segundo solicitado mediante un \"input\". Intenta sumarlas vía el operador + y mostrar el resultado en pantalla. Para guardar el resultado de la suma puedes crear una tercera variable."
   ]
  },
  {
   "cell_type": "code",
   "execution_count": 16,
   "metadata": {
    "id": "HAcxC8eh8ewn"
   },
   "outputs": [],
   "source": [
    "saludo = 'Hola '\n"
   ]
  },
  {
   "cell_type": "code",
   "execution_count": 17,
   "metadata": {},
   "outputs": [
    {
     "name": "stdout",
     "output_type": "stream",
     "text": [
      "Ingresa tu nombre: jose\n"
     ]
    }
   ],
   "source": [
    "nombre = input('Ingresa tu nombre: ')"
   ]
  },
  {
   "cell_type": "code",
   "execution_count": 19,
   "metadata": {},
   "outputs": [],
   "source": [
    "resultado_nombre =  saludo +  nombre"
   ]
  },
  {
   "cell_type": "code",
   "execution_count": 20,
   "metadata": {},
   "outputs": [
    {
     "name": "stdout",
     "output_type": "stream",
     "text": [
      "Hola jose\n"
     ]
    }
   ],
   "source": [
    "print(resultado_nombre)"
   ]
  },
  {
   "cell_type": "markdown",
   "metadata": {
    "id": "b8t9ONBf8OyI"
   },
   "source": [
    "Ejercicio 3:\n",
    "\n",
    "Escriba un programa en Python que simule el resultado de colocar determinada cantidad de dinero en un plazo fijo. Para ello se deberán crear una serie de variables que se pedirán al usuario:\n",
    "\n",
    "- Capital\n",
    "\n",
    "- Tiempo en días\n",
    "\n",
    "La tasa de interés es del 85% anual. Luego que el programa pide al usuario el tiempo que colocara el capital y el capital\n",
    ", calcule e imprima el interés que obtendrá producto de la operación."
   ]
  },
  {
   "cell_type": "code",
   "execution_count": 22,
   "metadata": {},
   "outputs": [],
   "source": [
    "tasa = 0.85"
   ]
  },
  {
   "cell_type": "code",
   "execution_count": 21,
   "metadata": {
    "id": "d-DsJDXt8R3f"
   },
   "outputs": [
    {
     "name": "stdout",
     "output_type": "stream",
     "text": [
      "Capital: 1000\n"
     ]
    }
   ],
   "source": [
    "capital = int(input(\"Capital: \")) "
   ]
  },
  {
   "cell_type": "code",
   "execution_count": 24,
   "metadata": {},
   "outputs": [
    {
     "name": "stdout",
     "output_type": "stream",
     "text": [
      "Dias: 30\n"
     ]
    }
   ],
   "source": [
    "tiempo = int(input(\"Dias: \"))"
   ]
  },
  {
   "cell_type": "code",
   "execution_count": 40,
   "metadata": {},
   "outputs": [],
   "source": [
    "interes = round(capital * tiempo * (tasa/365),2)"
   ]
  },
  {
   "cell_type": "code",
   "execution_count": 41,
   "metadata": {},
   "outputs": [
    {
     "name": "stdout",
     "output_type": "stream",
     "text": [
      " El interes es: 69.86\n"
     ]
    }
   ],
   "source": [
    "print(f' El interes es: {interes}')"
   ]
  },
  {
   "cell_type": "markdown",
   "metadata": {
    "id": "1K1Y93Wm8SDk"
   },
   "source": [
    "Ejercicio 4:\n",
    "\n",
    "Paula rindió 3 exámenes, su nota final es el promedio de las 3 notas idividuales. Se desea saber su nota final sabiendo que:\n",
    "\n",
    "nota1 = 6\n",
    "\n",
    "nota2 = 8\n",
    "\n",
    "nota3 = 5"
   ]
  },
  {
   "cell_type": "code",
   "execution_count": 27,
   "metadata": {
    "id": "h_Wuhtsh8fpr"
   },
   "outputs": [],
   "source": [
    "nota1 = 6\n",
    "nota2 = 8\n",
    "nota3 = 5"
   ]
  },
  {
   "cell_type": "code",
   "execution_count": 29,
   "metadata": {},
   "outputs": [],
   "source": [
    "nota_final = int((nota1+nota2+nota3)/3)\n"
   ]
  },
  {
   "cell_type": "code",
   "execution_count": 39,
   "metadata": {},
   "outputs": [
    {
     "name": "stdout",
     "output_type": "stream",
     "text": [
      " La nota final es: 6\n"
     ]
    }
   ],
   "source": [
    "print(f' La nota final es: {nota_final}')"
   ]
  },
  {
   "cell_type": "markdown",
   "metadata": {
    "id": "W09gvICp8gHV"
   },
   "source": [
    "Ejercicio 5:\n",
    "\n",
    "Elaborar un programa que reciba como input el signo del zodiaco de una persona y que devuelva como salida el tipo de elemento que corresponde a ese signo.\n",
    "\n",
    "Signos de Fuego: Aries, Leo y Sagitario.\n",
    "Signos de Tierra: Tauro, Virgo y Capricornio.\n",
    "Signos de Aire: Géminis, Libra y Acuario.\n",
    "Signos de Agua: Cáncer, Escorpio y Piscis."
   ]
  },
  {
   "cell_type": "code",
   "execution_count": 32,
   "metadata": {
    "id": "aMblIvPeEOR4"
   },
   "outputs": [
    {
     "name": "stdout",
     "output_type": "stream",
     "text": [
      "Ingresa tu signo: leo\n",
      "Tu elemento es fuego!\n"
     ]
    }
   ],
   "source": [
    "signo = input(\"Ingresa tu signo: \")\n",
    "\n",
    "if signo == \"aries\" or signo == \"leo\" or signo == \"sagitario\":\n",
    "    print(\"Tu elemento es fuego!\")\n",
    "elif signo == \"tauro\" or signo == \"virgo\" or signo == \"capricornio\":\n",
    "    print(\"Tu elemento es tierra!\")\n",
    "elif signo == \"geminis\" or signo == \"libra\" or signo == \"acuario\":\n",
    "    print(\"Tu elemento es aire!\")\n",
    "elif signo == \"cancer\" or signo == \"escorpio\" or signo == \"piscis\":\n",
    "    print(\"Tu elemento es agua!\")\n",
    "else:\n",
    "    print(\"Error de opción\")\n"
   ]
  },
  {
   "cell_type": "markdown",
   "metadata": {
    "id": "rBUHI2NDEOX2"
   },
   "source": [
    "Ejercicio 6:\n",
    "\n",
    "Supongamos que una aerolínea tiene las siguientes tarifas de billetes para \"niños\": los niños de 2 años o menos vuelan gratis, los niños mayores de 2 pero menores de 13 pagan una tarifa de niño con descuento y cualquier persona de 13 años o más paga una tarifa de adulto normal. Elaborar un programa que reciba como input la edad y que devuelva como salida el tipo de tarifa."
   ]
  },
  {
   "cell_type": "code",
   "execution_count": 33,
   "metadata": {
    "id": "6w3QyPNcERNm"
   },
   "outputs": [
    {
     "name": "stdout",
     "output_type": "stream",
     "text": [
      "Ingresa tu edad: 13\n",
      "Tarifa de adulto\n"
     ]
    }
   ],
   "source": [
    "edad_tarifa = int(input(\"Ingresa tu edad: \"))\n",
    "\n",
    "if edad_tarifa <=2:\n",
    "    print(\"Tarifa de niño\")\n",
    "elif edad_tarifa > 2 and edad_tarifa < 13:\n",
    "    print(\"Tarifa de niño con descuento\")\n",
    "else:\n",
    "    print(\"Tarifa de adulto\")"
   ]
  },
  {
   "cell_type": "markdown",
   "metadata": {
    "id": "7v870Xq1EUm4"
   },
   "source": [
    "Ejercicio 7:\n",
    "\n",
    "Necesitamos clasificar los clientes de un negocio en funcion a sus ingresos:\n",
    "\n",
    "Clasificacion de los ingresos:\n",
    "\n",
    "● ingreso bajo: < 100000\n",
    "\n",
    "● ingreso promedio: >= 100000 y menor a 500000\n",
    "\n",
    "● ingreso alto: >500000\n",
    "\n",
    "Elaborar un programa que reciba como input el ingreso del cliente y que devuelva como salida el tipo ingreso segun su clasificacion."
   ]
  },
  {
   "cell_type": "code",
   "execution_count": 34,
   "metadata": {
    "id": "NTauEFHHEVBX"
   },
   "outputs": [
    {
     "name": "stdout",
     "output_type": "stream",
     "text": [
      "Ingreso: 100000\n",
      "Ingreso promedio\n"
     ]
    }
   ],
   "source": [
    "ingreso = int(input(\"Ingreso: \"))\n",
    "\n",
    "if ingreso < 100000:\n",
    "    print(\"Ingreso bajo\")\n",
    "elif ingreso >= 100000 and ingreso < 500000:\n",
    "    print(\"Ingreso promedio\")\n",
    "else:\n",
    "    print(\"Ingreso alto\")"
   ]
  },
  {
   "cell_type": "markdown",
   "metadata": {
    "id": "UxqeaLGJEVai"
   },
   "source": [
    "Ejercicio 8:\n",
    "\n",
    "Pedir por teclado el nombre de usuario, si está vacío, volver a pedirlo hasta que se ingrese un nombre. Luego, saludar al usuario."
   ]
  },
  {
   "cell_type": "code",
   "execution_count": 35,
   "metadata": {
    "id": "YNDtprdZEggP"
   },
   "outputs": [
    {
     "name": "stdout",
     "output_type": "stream",
     "text": [
      "Ingrese nombre: martin\n",
      "Hola martin\n"
     ]
    }
   ],
   "source": [
    "nombre = input(\"Ingrese nombre: \")\n",
    "\n",
    "while nombre == \"\":\n",
    "    print(\"¡Error, dato vacio!\")\n",
    "    nombre = input(\"Ingrese el nombre nuevamente: \")\n",
    "\n",
    "print(\"Hola \"+nombre)"
   ]
  },
  {
   "cell_type": "markdown",
   "metadata": {
    "id": "RFWp-dAnRb7C"
   },
   "source": [
    "Ejercicio 9:\n",
    "\n",
    "Dada una lista de números encontrar el promedio de sus elementos:\n",
    "\n",
    "1 - Sin usar ninguna función.\n",
    "\n",
    "2 - Usando funciones incorporadas de Python."
   ]
  },
  {
   "cell_type": "code",
   "execution_count": 43,
   "metadata": {
    "id": "jOyWpswaR9xe"
   },
   "outputs": [
    {
     "data": {
      "text/plain": [
       "5.07"
      ]
     },
     "execution_count": 43,
     "metadata": {},
     "output_type": "execute_result"
    }
   ],
   "source": [
    "numeros = [6,3,2,5,4,8,4,5,9,6,8,5,1,5]\n",
    "\n",
    "suma = 0\n",
    "n = 0\n",
    "for num in numeros:\n",
    "    suma += num\n",
    "    n += 1\n",
    "    \n",
    "\n",
    "round(suma/n,2)"
   ]
  },
  {
   "cell_type": "code",
   "execution_count": 38,
   "metadata": {},
   "outputs": [
    {
     "data": {
      "text/plain": [
       "5.07"
      ]
     },
     "execution_count": 38,
     "metadata": {},
     "output_type": "execute_result"
    }
   ],
   "source": [
    "round(sum(numeros)/len(numeros),2)"
   ]
  }
 ],
 "metadata": {
  "colab": {
   "provenance": []
  },
  "kernelspec": {
   "display_name": "Python 3 (ipykernel)",
   "language": "python",
   "name": "python3"
  },
  "language_info": {
   "codemirror_mode": {
    "name": "ipython",
    "version": 3
   },
   "file_extension": ".py",
   "mimetype": "text/x-python",
   "name": "python",
   "nbconvert_exporter": "python",
   "pygments_lexer": "ipython3",
   "version": "3.9.13"
  }
 },
 "nbformat": 4,
 "nbformat_minor": 1
}
