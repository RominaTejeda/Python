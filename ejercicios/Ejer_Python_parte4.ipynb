{
  "nbformat": 4,
  "nbformat_minor": 0,
  "metadata": {
    "colab": {
      "provenance": []
    },
    "kernelspec": {
      "name": "python3",
      "display_name": "Python 3"
    },
    "language_info": {
      "name": "python"
    }
  },
  "cells": [
    {
      "cell_type": "markdown",
      "source": [
        "1) Escribe un programa que devuelva la primera y la última letra de una palabra y las imprima en pantalla"
      ],
      "metadata": {
        "id": "HqggR92_79ko"
      }
    },
    {
      "cell_type": "code",
      "source": [
        "palabra = 'estrella'\n",
        "primera = palabra[0]\n",
        "ultima = palabra[-1]\n",
        "print(f\"La primera letra de {palabra} es {primera} y la última es {ultima}\")"
      ],
      "metadata": {
        "colab": {
          "base_uri": "https://localhost:8080/"
        },
        "id": "w4D5nAFO79uA",
        "outputId": "d08af8ad-fcb6-48c2-dda8-773ca7527d15"
      },
      "execution_count": 7,
      "outputs": [
        {
          "output_type": "stream",
          "name": "stdout",
          "text": [
            "La primera letra de estrella es e y la última es a\n"
          ]
        }
      ]
    },
    {
      "cell_type": "markdown",
      "source": [
        "2) Escribe un programa que dadas dos palabras diga cual es más larga de las dos(o si son iguales)"
      ],
      "metadata": {
        "id": "EejFumTQ791Z"
      }
    },
    {
      "cell_type": "code",
      "source": [
        "palabra1 = 'corazon'\n",
        "palabra2 = 'cabeza'"
      ],
      "metadata": {
        "id": "BVtiGgc1cNIv"
      },
      "execution_count": 8,
      "outputs": []
    },
    {
      "cell_type": "code",
      "source": [
        "def palabra_mas_larga(palabra1, palabra2):\n",
        "  if len(palabra1) > len(palabra2):\n",
        "    print(\"La palabra 1 es más larga\")\n",
        "  elif len(palabra2) > len(palabra1):\n",
        "    print(\"La palabra 2 es más larga\")\n",
        "  else:\n",
        "    print(\"Las palabras tienen la misma longitud\")"
      ],
      "metadata": {
        "id": "sEp2-GuM796r"
      },
      "execution_count": 9,
      "outputs": []
    },
    {
      "cell_type": "code",
      "source": [
        "palabra_mas_larga(palabra1, palabra2)"
      ],
      "metadata": {
        "colab": {
          "base_uri": "https://localhost:8080/"
        },
        "id": "X7OGsWH5cbwd",
        "outputId": "dea4c10c-d9c7-4577-c0d2-038db535bf90"
      },
      "execution_count": 10,
      "outputs": [
        {
          "output_type": "stream",
          "name": "stdout",
          "text": [
            "La palabra 1 es más larga\n"
          ]
        }
      ]
    },
    {
      "cell_type": "markdown",
      "source": [
        "3) Escribe un programa que imprima en pantalla los múltiplos de 5 del 1 al 50"
      ],
      "metadata": {
        "id": "C3PTYMLZcg0C"
      }
    },
    {
      "cell_type": "code",
      "source": [
        "multiplos_de_5 = []\n",
        "contador = 0\n",
        "\n",
        "while contador <= 50:\n",
        "  contador = contador + 1\n",
        "  if contador%5 == 0:\n",
        "    multiplos_de_5.append(contador)\n",
        "print(multiplos_de_5)\n"
      ],
      "metadata": {
        "colab": {
          "base_uri": "https://localhost:8080/"
        },
        "id": "h2e8q8Dpc1B6",
        "outputId": "09cf15b3-fa7f-438d-fcb8-025d2b8509a1"
      },
      "execution_count": 11,
      "outputs": [
        {
          "output_type": "stream",
          "name": "stdout",
          "text": [
            "[5, 10, 15, 20, 25, 30, 35, 40, 45, 50]\n"
          ]
        }
      ]
    },
    {
      "cell_type": "code",
      "source": [
        "list(range(0,51,5))"
      ],
      "metadata": {
        "colab": {
          "base_uri": "https://localhost:8080/"
        },
        "id": "7HakVicic4re",
        "outputId": "d4801eef-e421-4f06-88ae-9b5037381df4"
      },
      "execution_count": 12,
      "outputs": [
        {
          "output_type": "execute_result",
          "data": {
            "text/plain": [
              "[0, 5, 10, 15, 20, 25, 30, 35, 40, 45, 50]"
            ]
          },
          "metadata": {},
          "execution_count": 12
        }
      ]
    },
    {
      "cell_type": "markdown",
      "source": [
        "4) Cómo podemos quedarnos solo con los 6 primeros elemento de una lista. Y solo con la mitad?"
      ],
      "metadata": {
        "id": "yZQUew2v7-A-"
      }
    },
    {
      "cell_type": "code",
      "source": [
        "lista = [i for i in range(21)]\n",
        "lista"
      ],
      "metadata": {
        "colab": {
          "base_uri": "https://localhost:8080/"
        },
        "id": "ekkkB22BekHY",
        "outputId": "1eb83d4c-62eb-4ad0-858f-5064396b73ea"
      },
      "execution_count": 13,
      "outputs": [
        {
          "output_type": "execute_result",
          "data": {
            "text/plain": [
              "[0, 1, 2, 3, 4, 5, 6, 7, 8, 9, 10, 11, 12, 13, 14, 15, 16, 17, 18, 19, 20]"
            ]
          },
          "metadata": {},
          "execution_count": 13
        }
      ]
    },
    {
      "cell_type": "code",
      "source": [
        "lista[:6]"
      ],
      "metadata": {
        "colab": {
          "base_uri": "https://localhost:8080/"
        },
        "id": "YM8kYyaf7-GI",
        "outputId": "13693bde-6043-4de9-dc1d-fdac0eb71699"
      },
      "execution_count": 14,
      "outputs": [
        {
          "output_type": "execute_result",
          "data": {
            "text/plain": [
              "[0, 1, 2, 3, 4, 5]"
            ]
          },
          "metadata": {},
          "execution_count": 14
        }
      ]
    },
    {
      "cell_type": "code",
      "source": [
        "lista[:len(lista)//2]"
      ],
      "metadata": {
        "colab": {
          "base_uri": "https://localhost:8080/"
        },
        "id": "EDMX3C84e2Cx",
        "outputId": "f7297502-e5bf-495a-f6f6-bb3237edfd6b"
      },
      "execution_count": 15,
      "outputs": [
        {
          "output_type": "execute_result",
          "data": {
            "text/plain": [
              "[0, 1, 2, 3, 4, 5, 6, 7, 8, 9]"
            ]
          },
          "metadata": {},
          "execution_count": 15
        }
      ]
    },
    {
      "cell_type": "markdown",
      "source": [
        " 5) Hacer una función que calcule la resta de dos listas cualquiera"
      ],
      "metadata": {
        "id": "w5XQhc3PkPZP"
      }
    },
    {
      "cell_type": "code",
      "source": [
        "lista_resta = []"
      ],
      "metadata": {
        "id": "v6egWiR4lJRn"
      },
      "execution_count": 16,
      "outputs": []
    },
    {
      "cell_type": "code",
      "source": [
        "def resta_listas(lista1,lista2):\n",
        "  if len(lista1) == len(lista2):\n",
        "    for i in range(len(lista1)):\n",
        "      lista_resta.append(lista1[i]-lista2[i])\n",
        "    return lista_resta\n",
        "  else:\n",
        "    print('Las listas tienen longitudes diferente')"
      ],
      "metadata": {
        "id": "fVM7Usx8kx3U"
      },
      "execution_count": 17,
      "outputs": []
    },
    {
      "cell_type": "code",
      "source": [
        "lista1 = [0, 3, 9, 5, 8]\n",
        "lista2 = [0, 1, 4, 6, 3]"
      ],
      "metadata": {
        "id": "oe0o392ek3VX"
      },
      "execution_count": 18,
      "outputs": []
    },
    {
      "cell_type": "code",
      "source": [
        "resta_listas(lista1,lista2)"
      ],
      "metadata": {
        "colab": {
          "base_uri": "https://localhost:8080/"
        },
        "id": "q-wrCmjslBVP",
        "outputId": "53484f3f-1b3a-4f0a-d90d-84247e444bf7"
      },
      "execution_count": 19,
      "outputs": [
        {
          "output_type": "execute_result",
          "data": {
            "text/plain": [
              "[0, 2, 5, -1, 5]"
            ]
          },
          "metadata": {},
          "execution_count": 19
        }
      ]
    },
    {
      "cell_type": "markdown",
      "source": [
        "6) Dada una frase, generar un lista en la que cada elemento sea cada una de las palabras que la contienen"
      ],
      "metadata": {
        "id": "TfXxcr-Llqfr"
      }
    },
    {
      "cell_type": "code",
      "source": [
        "frase = 'Este amor es azul como el mar azul'"
      ],
      "metadata": {
        "id": "jnCFErkIpwau"
      },
      "execution_count": 20,
      "outputs": []
    },
    {
      "cell_type": "code",
      "source": [
        "lista_de_palabras = frase.split()\n",
        "lista_de_palabras"
      ],
      "metadata": {
        "colab": {
          "base_uri": "https://localhost:8080/"
        },
        "id": "AQlwMVkuplJX",
        "outputId": "ffdc64cd-c577-488e-df15-7b85c4dcb832"
      },
      "execution_count": 21,
      "outputs": [
        {
          "output_type": "execute_result",
          "data": {
            "text/plain": [
              "['Este', 'amor', 'es', 'azul', 'como', 'el', 'mar', 'azul']"
            ]
          },
          "metadata": {},
          "execution_count": 21
        }
      ]
    },
    {
      "cell_type": "markdown",
      "source": [
        "7) Escribir un programa que simule el lanzamiento de una moneda. Pista: podes ayudarte de la función randint(), que genera numeros enteros aleatorios en un intervalo definido. randint(1,2) generará numeros  enteros entre 1 y 2"
      ],
      "metadata": {
        "id": "DaeTb6y_p5li"
      }
    },
    {
      "cell_type": "code",
      "source": [
        "from random import randint\n"
      ],
      "metadata": {
        "id": "gyEJxhLqqMyi"
      },
      "execution_count": 22,
      "outputs": []
    },
    {
      "cell_type": "code",
      "source": [
        "numero= randint(1,2)\n",
        "if numero == 1:\n",
        "  print('Cara')\n",
        "else: \n",
        "  print('Cruz')"
      ],
      "metadata": {
        "colab": {
          "base_uri": "https://localhost:8080/"
        },
        "id": "-ltHTou6qvK6",
        "outputId": "740883e4-b873-4938-ddb9-21c9a1fe36ea"
      },
      "execution_count": 23,
      "outputs": [
        {
          "output_type": "stream",
          "name": "stdout",
          "text": [
            "Cruz\n"
          ]
        }
      ]
    }
  ]
}