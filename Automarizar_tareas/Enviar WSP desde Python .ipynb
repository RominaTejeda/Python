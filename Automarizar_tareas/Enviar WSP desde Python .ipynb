{
 "cells": [
  {
   "cell_type": "code",
   "execution_count": 10,
   "id": "c0648d13",
   "metadata": {},
   "outputs": [],
   "source": [
    "# importamos el modulo\n",
    "import pywhatkit "
   ]
  },
  {
   "cell_type": "code",
   "execution_count": 12,
   "id": "4741191d",
   "metadata": {},
   "outputs": [
    {
     "name": "stdout",
     "output_type": "stream",
     "text": [
      "In 64 Seconds WhatsApp will open and after 15 Seconds Message will be Delivered!\n",
      "Mensaje enviado correctamente.\n"
     ]
    }
   ],
   "source": [
    "try:\n",
    "    # Especifica el número de destino y el mensaje\n",
    "    numero_destino = \"+549342xxxxxxx\" #colocar numero de celular \n",
    "    mensaje = \"¡Hola! Este es un mensaje automático enviado desde Python.\"\n",
    "\n",
    "    # Envía el mensaje\n",
    "    pywhatkit.sendwhatmsg(numero_destino, mensaje, 12,12)\n",
    "    print(\"Mensaje enviado correctamente.\")\n",
    "except Exception as e:\n",
    "    print(\"Ocurrió un error al enviar el mensaje:\", str(e))\n"
   ]
  }
 ],
 "metadata": {
  "kernelspec": {
   "display_name": "Python 3 (ipykernel)",
   "language": "python",
   "name": "python3"
  },
  "language_info": {
   "codemirror_mode": {
    "name": "ipython",
    "version": 3
   },
   "file_extension": ".py",
   "mimetype": "text/x-python",
   "name": "python",
   "nbconvert_exporter": "python",
   "pygments_lexer": "ipython3",
   "version": "3.9.13"
  }
 },
 "nbformat": 4,
 "nbformat_minor": 5
}
