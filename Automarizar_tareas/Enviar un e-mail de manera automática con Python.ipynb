{
 "cells": [
  {
   "cell_type": "code",
   "execution_count": 1,
   "id": "22ccc009",
   "metadata": {},
   "outputs": [],
   "source": [
    "from email.message import EmailMessage\n",
    "import smtplib\n",
    "\n",
    "\n",
    "# Configuración del servidor SMTP\n",
    "smtp_host = 'smtp.gmail.com'\n",
    "smtp_port = 587\n",
    "emisor = 'xx@gmail.com'\n",
    "password = 'xxx'\n",
    "\n",
    "\n",
    "# Otras definiciones \n",
    "destinatarios = ['contacto1','contacto2']\n",
    "asunto = 'Hola, esta es una prueba desde Python'\n",
    "cuerpo = \"\"\"\n",
    "Hola!!\n",
    "Esta es una prueba de un envio automatico de mail desde python\n",
    "\"\"\"\n",
    "ruta_adjunto = r'C:\\ruta al archivo.xlsx'\n",
    "\n",
    "# Crear el objeto EmailMessage\n",
    "email = EmailMessage()\n",
    "# Configurar los encabezados del correo electrónico\n",
    "email[\"From\"] = emisor \n",
    "email[\"To\"] = destinatarios\n",
    "email[\"Subject\"] = asunto\n",
    "\n",
    "# Contenido del correo electrónico\n",
    "email.set_content(cuerpo)\n",
    "\n",
    "# Adjuntar el archivo al correo electrónico \n",
    "with open(ruta_adjunto, 'rb') as f:\n",
    "    archivo_adjunto = f.read()\n",
    "    email.add_attachment(archivo_adjunto, maintype='application', \n",
    "                       subtype= 'vnd.openxmlformats-officedocument.spreadsheetml.sheet', filename='Nombre del archivo.xlsx')\n",
    "                       \n",
    "# Para archivos Excel en formato .xlsx (Excel 2007 y versiones posteriores),\n",
    "# el subtype es 'vnd.openxmlformats-officedocument.spreadsheetml.sheet'."
   ]
  },
  {
   "cell_type": "code",
   "execution_count": 2,
   "id": "43c11672",
   "metadata": {},
   "outputs": [
    {
     "name": "stdout",
     "output_type": "stream",
     "text": [
      "Correo electrónico enviado correctamente.\n"
     ]
    }
   ],
   "source": [
    "# Conectar y enviar el correo electrónico\n",
    "with smtplib.SMTP(smtp_host, smtp_port) as sm:\n",
    "    sm.starttls()\n",
    "    sm.login(emisor, password)\n",
    "    sm.send_message(email)\n",
    "    print('Correo electrónico enviado correctamente.')"
   ]
  }
 ],
 "metadata": {
  "kernelspec": {
   "display_name": "Python 3 (ipykernel)",
   "language": "python",
   "name": "python3"
  },
  "language_info": {
   "codemirror_mode": {
    "name": "ipython",
    "version": 3
   },
   "file_extension": ".py",
   "mimetype": "text/x-python",
   "name": "python",
   "nbconvert_exporter": "python",
   "pygments_lexer": "ipython3",
   "version": "3.9.13"
  }
 },
 "nbformat": 4,
 "nbformat_minor": 5
}
