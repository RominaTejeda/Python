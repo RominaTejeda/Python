{
 "cells": [
  {
   "cell_type": "markdown",
   "metadata": {
    "id": "DggRmNXSwMOC"
   },
   "source": [
    "1.Definir una función max() que tome como argumento dos números y devuelva el mayor de ellos. (Es cierto que python tiene una función max() incorporada, pero hacerla nosotros mismos es un muy buen ejercicio."
   ]
  },
  {
   "cell_type": "code",
   "execution_count": 1,
   "metadata": {
    "id": "7hxiSNDOwP45"
   },
   "outputs": [],
   "source": [
    "def maximo(a,b):\n",
    "    if a > b:\n",
    "        print(a)\n",
    "    else:\n",
    "        print(b)"
   ]
  },
  {
   "cell_type": "code",
   "execution_count": 2,
   "metadata": {
    "colab": {
     "base_uri": "https://localhost:8080/"
    },
    "id": "sfpr9Jdzw0dz",
    "outputId": "0898db28-fa8e-4e80-9725-e19b48d679ce"
   },
   "outputs": [
    {
     "name": "stdout",
     "output_type": "stream",
     "text": [
      "5\n"
     ]
    }
   ],
   "source": [
    "maximo(5,3)"
   ]
  },
  {
   "cell_type": "code",
   "execution_count": 3,
   "metadata": {
    "id": "VtI8FTYoy5Qr"
   },
   "outputs": [],
   "source": [
    "def funcion_max(n1,n2):\n",
    "    if n1 > n2:\n",
    "        return n1\n",
    "    else:\n",
    "        return n2"
   ]
  },
  {
   "cell_type": "code",
   "execution_count": 4,
   "metadata": {
    "colab": {
     "base_uri": "https://localhost:8080/"
    },
    "id": "Bf4mhb8Zy7f_",
    "outputId": "7a5f087e-f2ae-40d8-909e-f2b4943aa2b9"
   },
   "outputs": [
    {
     "data": {
      "text/plain": [
       "-2"
      ]
     },
     "execution_count": 4,
     "metadata": {},
     "output_type": "execute_result"
    }
   ],
   "source": [
    "funcion_max(-5,-2)"
   ]
  },
  {
   "cell_type": "markdown",
   "metadata": {
    "id": "ZCH9WdJIw6Oc"
   },
   "source": [
    "2. Definir una función max_de_tres(), que tome tres números como argumentos y devuelva el mayor de ellos."
   ]
  },
  {
   "cell_type": "code",
   "execution_count": 5,
   "metadata": {
    "id": "grC7usrbxAiv"
   },
   "outputs": [],
   "source": [
    "def maximo_de_3(a,b,c):\n",
    "  if a > b > c:\n",
    "        return a \n",
    "  elif b > a > c:\n",
    "        return b\n",
    "  else:\n",
    "        return c  "
   ]
  },
  {
   "cell_type": "code",
   "execution_count": 6,
   "metadata": {
    "colab": {
     "base_uri": "https://localhost:8080/"
    },
    "id": "U1zs_vMIzp69",
    "outputId": "9f64a060-7abf-47c2-f01d-01018b4e606b"
   },
   "outputs": [
    {
     "data": {
      "text/plain": [
       "7"
      ]
     },
     "execution_count": 6,
     "metadata": {},
     "output_type": "execute_result"
    }
   ],
   "source": [
    "maximo_de_3(2,1,7)"
   ]
  },
  {
   "cell_type": "markdown",
   "metadata": {
    "id": "du_6aR0DIjk9"
   },
   "source": [
    "3- Definir una función que calcule la longitud de una lista o una cadena dada. (Es cierto que python tiene la función len() incorporada, pero escribirla por nosotros mismos resulta un muy buen ejercicio"
   ]
  },
  {
   "cell_type": "code",
   "execution_count": 7,
   "metadata": {
    "id": "63FOyjHjIlKq"
   },
   "outputs": [],
   "source": [
    "def longitud(lista_o_cadena):\n",
    "    contador = 0\n",
    "    for i in lista_o_cadena:\n",
    "        contador += 1\n",
    "    return contador\n",
    "    \n",
    "  \n"
   ]
  },
  {
   "cell_type": "code",
   "execution_count": 8,
   "metadata": {
    "colab": {
     "base_uri": "https://localhost:8080/"
    },
    "id": "QX5VamjXNIUT",
    "outputId": "71a4abd9-0809-44ce-98d5-f565f734d520"
   },
   "outputs": [
    {
     "data": {
      "text/plain": [
       "8"
      ]
     },
     "execution_count": 8,
     "metadata": {},
     "output_type": "execute_result"
    }
   ],
   "source": [
    "longitud('estrella')"
   ]
  },
  {
   "cell_type": "code",
   "execution_count": 9,
   "metadata": {
    "colab": {
     "base_uri": "https://localhost:8080/"
    },
    "id": "BO3Tvmn9SlMU",
    "outputId": "9092fca3-ab72-4d6b-8a04-0d2d8b9f3643"
   },
   "outputs": [
    {
     "data": {
      "text/plain": [
       "3"
      ]
     },
     "execution_count": 9,
     "metadata": {},
     "output_type": "execute_result"
    }
   ],
   "source": [
    "longitud([1,2,3])"
   ]
  },
  {
   "cell_type": "markdown",
   "metadata": {
    "id": "lbtWSQmBz0e0"
   },
   "source": [
    "4- Escribir una función que tome un carácter y devuelva True si es una vocal, de lo contrario devuelve False."
   ]
  },
  {
   "cell_type": "code",
   "execution_count": 10,
   "metadata": {
    "id": "dl6u4Z_G0Dne"
   },
   "outputs": [],
   "source": [
    "def vocales(caracter):\n",
    "    if caracter in ['a','e','i','o','u']:\n",
    "        return True\n",
    "    else:\n",
    "        return False \n",
    "\n",
    "\n",
    "\n",
    "\n"
   ]
  },
  {
   "cell_type": "code",
   "execution_count": 11,
   "metadata": {
    "colab": {
     "base_uri": "https://localhost:8080/"
    },
    "id": "hWMdQdZv3fGU",
    "outputId": "da21dd91-ec26-4fe4-e28f-af4abbd3d345"
   },
   "outputs": [
    {
     "data": {
      "text/plain": [
       "False"
      ]
     },
     "execution_count": 11,
     "metadata": {},
     "output_type": "execute_result"
    }
   ],
   "source": [
    "vocales('g')"
   ]
  },
  {
   "cell_type": "code",
   "execution_count": 12,
   "metadata": {
    "colab": {
     "base_uri": "https://localhost:8080/"
    },
    "id": "HtcA7ewl3y7v",
    "outputId": "127bd0e0-72a8-4db4-eb60-9fa53f251f61"
   },
   "outputs": [
    {
     "data": {
      "text/plain": [
       "True"
      ]
     },
     "execution_count": 12,
     "metadata": {},
     "output_type": "execute_result"
    }
   ],
   "source": [
    "vocales('e')"
   ]
  },
  {
   "cell_type": "markdown",
   "metadata": {
    "id": "ND32TWXa33hC"
   },
   "source": [
    "5.Escribir una función sum() y una función multip() que sumen y multipliquen respectivamente todos los números de una lista. Por ejemplo: sum([1,2,3,4]) debería devolver 10 y multip([1,2,3,4]) debería devolver 24."
   ]
  },
  {
   "cell_type": "code",
   "execution_count": 13,
   "metadata": {
    "id": "MvMxuwoO4BUj"
   },
   "outputs": [],
   "source": [
    "\n",
    "def sumando(lista):\n",
    "    resultado = 0\n",
    "    for n in lista:\n",
    "        resultado = resultado + (n)\n",
    "    return resultado\n",
    "\n",
    "\n"
   ]
  },
  {
   "cell_type": "code",
   "execution_count": 14,
   "metadata": {
    "id": "6qsobmRC5hSv"
   },
   "outputs": [],
   "source": [
    "lista = [1,5,4]"
   ]
  },
  {
   "cell_type": "code",
   "execution_count": 15,
   "metadata": {
    "colab": {
     "base_uri": "https://localhost:8080/"
    },
    "id": "UFWmd4sd5nJ9",
    "outputId": "a8f77027-d636-423d-be86-333febc49a0d"
   },
   "outputs": [
    {
     "data": {
      "text/plain": [
       "10"
      ]
     },
     "execution_count": 15,
     "metadata": {},
     "output_type": "execute_result"
    }
   ],
   "source": [
    "sumando(lista)"
   ]
  },
  {
   "cell_type": "code",
   "execution_count": 16,
   "metadata": {
    "id": "dEdaKDow5-ag"
   },
   "outputs": [],
   "source": [
    "def multiplicando(lista):\n",
    "    resultado1 = 1\n",
    "    for n in lista:\n",
    "        resultado1 = resultado1 * (n)\n",
    "    return resultado1"
   ]
  },
  {
   "cell_type": "code",
   "execution_count": 17,
   "metadata": {
    "colab": {
     "base_uri": "https://localhost:8080/"
    },
    "id": "U_G2LKkD54uK",
    "outputId": "0f9ec05d-063a-4bc3-f723-e75202cb607c"
   },
   "outputs": [
    {
     "data": {
      "text/plain": [
       "20"
      ]
     },
     "execution_count": 17,
     "metadata": {},
     "output_type": "execute_result"
    }
   ],
   "source": [
    "multiplicando(lista)"
   ]
  },
  {
   "cell_type": "code",
   "execution_count": 18,
   "metadata": {
    "id": "o48O5n5v6UEN"
   },
   "outputs": [],
   "source": [
    "def mult(lista):\n",
    "    result = lista[0]\n",
    "    i = 1\n",
    "    while i in range(1,len(lista)):\n",
    "        result = result * lista[i]\n",
    "        i +=1\n",
    "    return result"
   ]
  },
  {
   "cell_type": "code",
   "execution_count": 19,
   "metadata": {
    "colab": {
     "base_uri": "https://localhost:8080/"
    },
    "id": "ZyL-F_s06mX4",
    "outputId": "21b823ae-cc94-4ab2-93cd-abdc9038770f"
   },
   "outputs": [
    {
     "data": {
      "text/plain": [
       "20"
      ]
     },
     "execution_count": 19,
     "metadata": {},
     "output_type": "execute_result"
    }
   ],
   "source": [
    "mult(lista)"
   ]
  },
  {
   "cell_type": "markdown",
   "metadata": {
    "id": "dTciB9vA69Go"
   },
   "source": [
    "6- Definir una función inversa() que calcule la inversión de una cadena. Por ejemplo la cadena \"estoy probando\" debería devolver la cadena \"odnaborp yotse\""
   ]
  },
  {
   "cell_type": "code",
   "execution_count": 20,
   "metadata": {
    "id": "Oy7GrF3n7Bao"
   },
   "outputs": [],
   "source": [
    "def invertir(cadena):\n",
    "  invertida = cadena[::-1]\n",
    "  return invertida"
   ]
  },
  {
   "cell_type": "code",
   "execution_count": 21,
   "metadata": {
    "colab": {
     "base_uri": "https://localhost:8080/",
     "height": 35
    },
    "id": "HdoKp1sQ-Ni5",
    "outputId": "eb207e44-76a4-447e-ec54-bc4af0de7077"
   },
   "outputs": [
    {
     "data": {
      "text/plain": [
       "'odnaborp yotse'"
      ]
     },
     "execution_count": 21,
     "metadata": {},
     "output_type": "execute_result"
    }
   ],
   "source": [
    "invertir('estoy probando')"
   ]
  },
  {
   "cell_type": "markdown",
   "metadata": {
    "id": "GGhNb4qw__zW"
   },
   "source": [
    "7- Definir una función es_palindromo() que reconoce palíndromos (es decir, palabras que tienen el mismo aspecto escritas invertidas), ejemplo: es_palindromo (\"radar\") tendría que devolver True."
   ]
  },
  {
   "cell_type": "code",
   "execution_count": 22,
   "metadata": {
    "id": "7oluEgsuAHlO"
   },
   "outputs": [],
   "source": [
    "def es_palindromo(palabra):\n",
    "    reves = invertir(palabra)\n",
    "    if palabra == reves:\n",
    "        return True\n",
    "    else:\n",
    "        return False"
   ]
  },
  {
   "cell_type": "code",
   "execution_count": 23,
   "metadata": {
    "colab": {
     "base_uri": "https://localhost:8080/"
    },
    "id": "kVpP4dgPC5Pm",
    "outputId": "6c4af034-0332-4aa9-9710-72318e73e706"
   },
   "outputs": [
    {
     "data": {
      "text/plain": [
       "True"
      ]
     },
     "execution_count": 23,
     "metadata": {},
     "output_type": "execute_result"
    }
   ],
   "source": [
    "es_palindromo('radar')"
   ]
  },
  {
   "cell_type": "code",
   "execution_count": 24,
   "metadata": {
    "colab": {
     "base_uri": "https://localhost:8080/"
    },
    "id": "pTKcn67UDB4O",
    "outputId": "af0e2eac-1897-4071-a792-ab0b220a03ce"
   },
   "outputs": [
    {
     "data": {
      "text/plain": [
       "False"
      ]
     },
     "execution_count": 24,
     "metadata": {},
     "output_type": "execute_result"
    }
   ],
   "source": [
    "es_palindromo('sol')"
   ]
  },
  {
   "cell_type": "markdown",
   "metadata": {
    "id": "5v747vMuDfLA"
   },
   "source": [
    "8- Definir una función superposicion() que tome dos listas y devuelva True si tienen al menos 1 miembro en común o devuelva False de lo contrario. Escribir la función usando el bucle for anidado."
   ]
  },
  {
   "cell_type": "code",
   "execution_count": 25,
   "metadata": {
    "id": "jBglCCi7DjgL"
   },
   "outputs": [],
   "source": [
    "def superposicion(lista2,lista3):\n",
    "  for i in lista2:\n",
    "     for n in lista3:\n",
    "        if n in lista2:\n",
    "            return True\n",
    "        else:\n",
    "            return False\n",
    "        \n",
    "    \n"
   ]
  },
  {
   "cell_type": "code",
   "execution_count": 26,
   "metadata": {
    "id": "unYpz6ADFtcS"
   },
   "outputs": [],
   "source": [
    "lista2 = [1,5,4,2]"
   ]
  },
  {
   "cell_type": "code",
   "execution_count": 27,
   "metadata": {
    "id": "_eAJ3eN1FthP"
   },
   "outputs": [],
   "source": [
    "lista3 = [2,9]"
   ]
  },
  {
   "cell_type": "code",
   "execution_count": 28,
   "metadata": {
    "colab": {
     "base_uri": "https://localhost:8080/"
    },
    "id": "Gs9D9zdPF58N",
    "outputId": "fd825a51-b17f-42d9-fec5-bf47a8ad7ee0"
   },
   "outputs": [
    {
     "data": {
      "text/plain": [
       "True"
      ]
     },
     "execution_count": 28,
     "metadata": {},
     "output_type": "execute_result"
    }
   ],
   "source": [
    "superposicion(lista2,lista3)"
   ]
  },
  {
   "cell_type": "markdown",
   "metadata": {
    "id": "UxEEJkVXHtUJ"
   },
   "source": [
    "9- Definir una función generar_n_caracteres() que tome un entero n y devuelva el caracter multiplicado por n. Por ejemplo: generar_n_caracteres(5, \"x\") debería devolver \"xxxxx\"."
   ]
  },
  {
   "cell_type": "code",
   "execution_count": 29,
   "metadata": {
    "id": "reeZTOmaStz0"
   },
   "outputs": [],
   "source": [
    "def generar_n_caracteres(num,x):\n",
    "    total_caracteres = str(x) * num\n",
    "    return total_caracteres\n",
    "    "
   ]
  },
  {
   "cell_type": "code",
   "execution_count": 30,
   "metadata": {
    "colab": {
     "base_uri": "https://localhost:8080/",
     "height": 35
    },
    "id": "1mrjU2YvZaKA",
    "outputId": "912314b6-2521-45ad-cf25-0c8cd98ec125"
   },
   "outputs": [
    {
     "data": {
      "text/plain": [
       "'eeeee'"
      ]
     },
     "execution_count": 30,
     "metadata": {},
     "output_type": "execute_result"
    }
   ],
   "source": [
    "generar_n_caracteres(5,'e')"
   ]
  }
 ],
 "metadata": {
  "colab": {
   "provenance": []
  },
  "kernelspec": {
   "display_name": "Python 3 (ipykernel)",
   "language": "python",
   "name": "python3"
  },
  "language_info": {
   "codemirror_mode": {
    "name": "ipython",
    "version": 3
   },
   "file_extension": ".py",
   "mimetype": "text/x-python",
   "name": "python",
   "nbconvert_exporter": "python",
   "pygments_lexer": "ipython3",
   "version": "3.9.13"
  }
 },
 "nbformat": 4,
 "nbformat_minor": 1
}
