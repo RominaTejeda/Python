{
 "cells": [
  {
   "cell_type": "code",
   "execution_count": 7,
   "id": "ed964403",
   "metadata": {},
   "outputs": [],
   "source": [
    "def numeros_faltantes(n):\n",
    "    numeros = set(n)\n",
    "    salida = []\n",
    "    for i in range(1, n[-1]):\n",
    "        if i not in numeros:\n",
    "            salida.append(i)\n",
    "    return salida \n",
    "    \n"
   ]
  },
  {
   "cell_type": "code",
   "execution_count": 12,
   "id": "94acacb9",
   "metadata": {},
   "outputs": [],
   "source": [
    "lista = [1, 2, 3, 5, 6, 7, 8, 9, 10, 11, 13, 14, 16,19]\n"
   ]
  },
  {
   "cell_type": "code",
   "execution_count": 13,
   "id": "91667dbc",
   "metadata": {},
   "outputs": [
    {
     "data": {
      "text/plain": [
       "[4, 12, 15, 17, 18]"
      ]
     },
     "execution_count": 13,
     "metadata": {},
     "output_type": "execute_result"
    }
   ],
   "source": [
    "numeros_faltantes(lista)"
   ]
  }
 ],
 "metadata": {
  "kernelspec": {
   "display_name": "Python 3 (ipykernel)",
   "language": "python",
   "name": "python3"
  },
  "language_info": {
   "codemirror_mode": {
    "name": "ipython",
    "version": 3
   },
   "file_extension": ".py",
   "mimetype": "text/x-python",
   "name": "python",
   "nbconvert_exporter": "python",
   "pygments_lexer": "ipython3",
   "version": "3.9.12"
  }
 },
 "nbformat": 4,
 "nbformat_minor": 5
}
